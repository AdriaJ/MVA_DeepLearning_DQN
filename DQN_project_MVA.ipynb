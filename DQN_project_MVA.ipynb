{
 "cells": [
  {
   "cell_type": "markdown",
   "metadata": {
    "colab_type": "text",
    "id": "5z9vgZ8djQGB"
   },
   "source": [
    "**You may need to install [OpenCV](https://pypi.python.org/pypi/opencv-python) and [scikit-video](http://www.scikit-video.org/stable/).**"
   ]
  },
  {
   "cell_type": "code",
   "execution_count": 18,
   "metadata": {
    "colab": {
     "base_uri": "https://localhost:8080/",
     "height": 88
    },
    "colab_type": "code",
    "executionInfo": {
     "elapsed": 3074,
     "status": "ok",
     "timestamp": 1583073364879,
     "user": {
      "displayName": "Adrian Jarret",
      "photoUrl": "",
      "userId": "03614014099574646852"
     },
     "user_tz": -60
    },
    "id": "D1cVV8TXjowi",
    "outputId": "a6f053f9-d177-4ca7-be97-6bea4133741a"
   },
   "outputs": [
    {
     "name": "stdout",
     "output_type": "stream",
     "text": [
      "Requirement already satisfied: sk-video in /usr/local/lib/python3.6/dist-packages (1.1.10)\n",
      "Requirement already satisfied: numpy in /usr/local/lib/python3.6/dist-packages (from sk-video) (1.17.5)\n",
      "Requirement already satisfied: scipy in /usr/local/lib/python3.6/dist-packages (from sk-video) (1.4.1)\n"
     ]
    }
   ],
   "source": [
    "!pip install sk-video"
   ]
  },
  {
   "cell_type": "code",
   "execution_count": 0,
   "metadata": {
    "colab": {},
    "colab_type": "code",
    "id": "RtjDMPvjjQGF"
   },
   "outputs": [],
   "source": [
    "import keras\n",
    "import numpy as np\n",
    "import io\n",
    "import base64\n",
    "from IPython.display import HTML\n",
    "import skvideo.io\n",
    "import cv2\n",
    "import json\n",
    "\n",
    "from keras.models import Sequential,model_from_json\n",
    "from keras.layers.core import Dense\n",
    "from keras.optimizers import sgd, Adam\n",
    "from keras.layers import Conv2D, MaxPooling2D, Activation, AveragePooling2D,Reshape,BatchNormalization, Flatten, Dropout\n",
    "from tensorflow import reduce_max"
   ]
  },
  {
   "cell_type": "markdown",
   "metadata": {
    "colab_type": "text",
    "id": "07gM89A6jQGO"
   },
   "source": [
    "# MiniProject on Deep Reinforcement Learning"
   ]
  },
  {
   "cell_type": "markdown",
   "metadata": {
    "colab_type": "text",
    "id": "Gh0BZPbUjQGQ"
   },
   "source": [
    "__Notations__: $E_p$ is the expectation under probability $p$. Please justify each of your answer and widely comment your code."
   ]
  },
  {
   "cell_type": "markdown",
   "metadata": {
    "colab_type": "text",
    "id": "XcDqpEbWjQGS"
   },
   "source": [
    "# Context"
   ]
  },
  {
   "cell_type": "markdown",
   "metadata": {
    "colab_type": "text",
    "id": "Hz2La5gpjQGU"
   },
   "source": [
    "In a reinforcement learning algorithm, we modelize each step $t$ as an action $a_t$ obtained from a state $s_t$, i.e. $\\{(a_{t},s_{t})_{t\\leq T}\\}$ having the Markov property. We consider a discount factor $\\gamma \\in [0,1]$ that ensures convergence. The goal is to find among all the policies $\\pi$, one that maximizes the expected reward:\n",
    "\n",
    "\\begin{equation*}\n",
    "R(\\pi)=\\sum_{t\\leq T}E_{p^{\\pi}}[\\gamma^t r(s_{t},a_{t})] \\> ,\n",
    "\\end{equation*}\n",
    "\n",
    "where: \n",
    "\\begin{equation*}p^{\\pi}(a_{0},a_{1},s_{1},...,a_{T},s_{T})=p(a_{0})\\prod_{t=1}^{T}\\pi(a_{t}|s_{t})p(s_{t+1}|s_{t},a_{t}) \\> .\n",
    "\\end{equation*}\n",
    "\n",
    "We note the $Q$-function:\n",
    "\n",
    "\\begin{equation*}Q^\\pi(s,a)=E_{p^{\\pi}}[\\sum_{t\\leq T}\\gamma^{t}r(s_{t},a_{t})|s_{0}=s,a_{0}=a] \\> .\n",
    "\\end{equation*}\n",
    "\n",
    "Thus, the optimal Q function is:\n",
    "\\begin{equation*}\n",
    "Q^*(s,a)=\\max_{\\pi}Q^\\pi(s,a) \\> .\n",
    "\\end{equation*}\n",
    "\n",
    "In this project, we will apply the deep reinforcement learning techniques to a simple game: an agent will have to learn from scratch a policy that will permit it maximizing a reward."
   ]
  },
  {
   "cell_type": "markdown",
   "metadata": {
    "colab_type": "text",
    "id": "8M0yi9AzjQGW"
   },
   "source": [
    "## The environment, the agent and the game"
   ]
  },
  {
   "cell_type": "markdown",
   "metadata": {
    "colab_type": "text",
    "id": "TQ1Du2pzjQGY"
   },
   "source": [
    "### The environment"
   ]
  },
  {
   "cell_type": "markdown",
   "metadata": {
    "colab_type": "text",
    "id": "9M354UTXjQGa"
   },
   "source": [
    "```Environment``` is an abstract class that represents the states, rewards, and actions to obtain the new state."
   ]
  },
  {
   "cell_type": "code",
   "execution_count": 0,
   "metadata": {
    "colab": {},
    "colab_type": "code",
    "id": "9_Qcm3jqjQGc"
   },
   "outputs": [],
   "source": [
    "class Environment(object):\n",
    "    def __init__(self):\n",
    "        pass\n",
    "\n",
    "    def act(self, act):\n",
    "        \"\"\"\n",
    "        One can act on the environment and obtain its reaction:\n",
    "        - the new state\n",
    "        - the reward of the new state\n",
    "        - should we continue the game?\n",
    "\n",
    "        :return: state, reward, game_over\n",
    "        \"\"\"\n",
    "        pass\n",
    "\n",
    "\n",
    "    def reset(self):\n",
    "        \"\"\"\n",
    "        Reinitialize the environment to a random state and returns\n",
    "        the original state\n",
    "\n",
    "        :return: state\n",
    "        \"\"\"\n",
    "        pass\n",
    "    \n",
    "    def draw(self):\n",
    "        \"\"\"\n",
    "        Visualize in the console or graphically the current state\n",
    "        \"\"\"\n",
    "        pass"
   ]
  },
  {
   "cell_type": "markdown",
   "metadata": {
    "colab_type": "text",
    "id": "NfD6Z7vgjQGi"
   },
   "source": [
    "The method ```act``` allows to act on the environment at a given state $s_t$ (stored internally), via action $a_t$. The method will return the new state $s_{t+1}$, the reward $r(s_{t},a_{t})$ and determines if $t\\leq T$ (*game_over*).\n",
    "\n",
    "The method ```reset``` simply reinitializes the environment to a random state $s_0$.\n",
    "\n",
    "The method ```draw``` displays the current state $s_t$ (this is useful to check the behavior of the Agent).\n",
    "\n",
    "We modelize $s_t$ as a tensor, while $a_t$ is an integer."
   ]
  },
  {
   "cell_type": "markdown",
   "metadata": {
    "colab_type": "text",
    "id": "lhSxBK0BjQGk"
   },
   "source": [
    "### The Agent"
   ]
  },
  {
   "cell_type": "markdown",
   "metadata": {
    "colab_type": "text",
    "id": "D0U0hMnbjQGm"
   },
   "source": [
    "The goal of the ```Agent``` is to interact with the ```Environment``` by proposing actions $a_t$ obtained from a given state $s_t$ to attempt to maximize its __reward__ $r(s_t,a_t)$. We propose the following abstract class:"
   ]
  },
  {
   "cell_type": "code",
   "execution_count": 0,
   "metadata": {
    "colab": {},
    "colab_type": "code",
    "id": "jt0VTHMljQGo"
   },
   "outputs": [],
   "source": [
    "class Agent(object):\n",
    "    def __init__(self, epsilon=0.1, n_action=4):\n",
    "        self.epsilon = epsilon\n",
    "        self.n_action = n_action\n",
    "    \n",
    "    def set_epsilon(self,e):\n",
    "        self.epsilon = e\n",
    "\n",
    "    def act(self,s,train=True):\n",
    "        \"\"\" This function should return the next action to do:\n",
    "        an integer between 0 and 4 (not included) with a random exploration of epsilon\"\"\"\n",
    "        if train:\n",
    "            if np.random.rand() <= self.epsilon:\n",
    "                a = np.random.randint(0, self.n_action, size=1)[0]\n",
    "            else:\n",
    "                a = self.learned_act(s)\n",
    "        else: # in some cases, this can improve the performance.. remove it if poor performances\n",
    "            a = self.learned_act(s)\n",
    "\n",
    "        return a\n",
    "\n",
    "    def learned_act(self,s):\n",
    "        \"\"\" Act via the policy of the agent, from a given state s\n",
    "        it proposes an action a\"\"\"\n",
    "        pass\n",
    "\n",
    "    def reinforce(self, s, n_s, a, r, game_over_):\n",
    "        \"\"\" This function is the core of the learning algorithm. \n",
    "        It takes as an input the current state s_, the next state n_s_\n",
    "        the action a_ used to move from s_ to n_s_ and the reward r_.\n",
    "        \n",
    "        Its goal is to learn a policy.\n",
    "        \"\"\"\n",
    "        pass\n",
    "\n",
    "    def save(self):\n",
    "        \"\"\" This function returns basic stats if applicable: the\n",
    "        loss and/or the model\"\"\"\n",
    "        pass\n",
    "\n",
    "    def load(self):\n",
    "        \"\"\" This function allows to restore a model\"\"\"\n",
    "        pass"
   ]
  },
  {
   "cell_type": "markdown",
   "metadata": {
    "colab_type": "text",
    "id": "kBBQuaeRjQGu"
   },
   "source": [
    "***\n",
    "__Question 1__:\n",
    "Explain the function act. Why is ```epsilon``` essential?"
   ]
  },
  {
   "cell_type": "markdown",
   "metadata": {
    "colab_type": "text",
    "id": "-VAPhuaJjQGw"
   },
   "source": [
    "The function `act` allows the Agent to determine the following interaction with the Environment. If we already know a good policy of action, then `learned_act` will return an action which leads to a good reward. However, if our current \"best policy\" (given by `learned_act`) is not yet optimal,  without `epsilon`, we would not consider any other possible action and keep with our non optimal policy. With `epsilon`, et each new action to be taken, we allow the possibility (often quite small) to try another random action. If this new action happen to lead to good reward, then we can store this information and adapt our policy (via `reinforce` method) in order to obtain better reward than our current policy the next time we will face the same current state. To summarize, `epsilon` allows exploration of actions."
   ]
  },
  {
   "cell_type": "markdown",
   "metadata": {
    "colab_type": "text",
    "id": "J_xVhAcZjQGx"
   },
   "source": [
    "***\n",
    "### The Game"
   ]
  },
  {
   "cell_type": "markdown",
   "metadata": {
    "colab_type": "text",
    "id": "kVdYyokVjQGy"
   },
   "source": [
    "The ```Agent``` and the ```Environment``` work in an interlaced way as in the following (take some time to understand this code as it is the core of the project)\n",
    "\n",
    "```python\n",
    "\n",
    "epoch = 300\n",
    "env = Environment()\n",
    "agent = Agent()\n",
    "\n",
    "\n",
    "# Number of won games\n",
    "score = 0\n",
    "loss = 0\n",
    "\n",
    "\n",
    "for e in range(epoch):\n",
    "    # At each epoch, we restart to a fresh game and get the initial state\n",
    "    state = env.reset()\n",
    "    # This assumes that the games will end\n",
    "    game_over = False\n",
    "\n",
    "    win = 0\n",
    "    lose = 0\n",
    "    \n",
    "    while not game_over:\n",
    "        # The agent performs an action\n",
    "        action = agent.act(state)\n",
    "\n",
    "        # Apply an action to the environment, get the next state, the reward\n",
    "        # and if the games end\n",
    "        prev_state = state\n",
    "        state, reward, game_over = env.act(action)\n",
    "\n",
    "        # Update the counters\n",
    "        if reward > 0:\n",
    "            win = win + reward\n",
    "        if reward < 0:\n",
    "            lose = lose - reward\n",
    "\n",
    "        # Apply the reinforcement strategy\n",
    "        loss = agent.reinforce(prev_state, state,  action, reward, game_over)\n",
    "\n",
    "    # Save as a mp4\n",
    "    if e % 10 == 0:\n",
    "        env.draw(e)\n",
    "\n",
    "    # Update stats\n",
    "    score += win-lose\n",
    "\n",
    "    print(\"Epoch {:03d}/{:03d} | Loss {:.4f} | Win/lose count {}/{} ({})\"\n",
    "          .format(e, epoch, loss, win, lose, win-lose))\n",
    "    agent.save()\n",
    "```"
   ]
  },
  {
   "cell_type": "markdown",
   "metadata": {
    "colab_type": "text",
    "id": "Qrn2djjrjQG0"
   },
   "source": [
    "# The game, *eat cheese*"
   ]
  },
  {
   "cell_type": "markdown",
   "metadata": {
    "colab_type": "text",
    "id": "8lrEzIXjjQG1"
   },
   "source": [
    "A rat runs on an island and tries to eat as much as possible. The island is subdivided into $N\\times N$ cells, in which there are cheese (+0.5) and poisonous cells (-1). The rat has a visibility of 2 cells (thus it can see $5^2$ cells). The rat is given a time $T$ to accumulate as much food as possible. It can perform 4 actions: going up, down, left, right. \n",
    "\n",
    "The goal is to code an agent to solve this task that will learn by trial and error. We propose the following environment:"
   ]
  },
  {
   "cell_type": "code",
   "execution_count": 0,
   "metadata": {
    "colab": {},
    "colab_type": "code",
    "id": "3cYXtUYpjQG3"
   },
   "outputs": [],
   "source": [
    "class Environment(object):\n",
    "    def __init__(self, grid_size=10, max_time=500, temperature=0.1):\n",
    "        grid_size = grid_size+4\n",
    "        self.grid_size = grid_size\n",
    "        self.max_time = max_time\n",
    "        self.temperature = temperature\n",
    "\n",
    "        #board on which one plays\n",
    "        self.board = np.zeros((grid_size,grid_size))\n",
    "        self.position = np.zeros((grid_size,grid_size))\n",
    "\n",
    "        # coordinate of the cat\n",
    "        self.x = 0\n",
    "        self.y = 1\n",
    "\n",
    "        # self time\n",
    "        self.t = 0\n",
    "\n",
    "        self.scale=16\n",
    "\n",
    "        self.to_draw = np.zeros((max_time+2, grid_size*self.scale, grid_size*self.scale, 3))\n",
    "\n",
    "\n",
    "    def draw(self,e):\n",
    "        skvideo.io.vwrite(str(e) + '.mp4', self.to_draw)\n",
    "\n",
    "    def get_frame(self,t):\n",
    "        b = np.zeros((self.grid_size,self.grid_size,3))+128\n",
    "        b[self.board>0,0] = 256\n",
    "        b[self.board < 0, 2] = 256\n",
    "        b[self.x,self.y,:]=256\n",
    "        b[-2:,:,:]=0\n",
    "        b[:,-2:,:]=0\n",
    "        b[:2,:,:]=0\n",
    "        b[:,:2,:]=0\n",
    "        \n",
    "        b =  cv2.resize(b, None, fx=self.scale, fy=self.scale, interpolation=cv2.INTER_NEAREST)\n",
    "\n",
    "        self.to_draw[t,:,:,:]=b\n",
    "\n",
    "\n",
    "    def act(self, action):\n",
    "        \"\"\"This function returns the new state, reward and decides if the\n",
    "        game ends.\"\"\"\n",
    "\n",
    "        self.get_frame(int(self.t))\n",
    "\n",
    "        self.position = np.zeros((self.grid_size, self.grid_size))\n",
    "\n",
    "        self.position[0:2,:]= -1\n",
    "        self.position[:,0:2] = -1\n",
    "        self.position[-2:, :] = -1\n",
    "        self.position[:, -2:] = -1\n",
    "\n",
    "        self.position[self.x, self.y] = 1\n",
    "        if action == 0:                    #go up\n",
    "            if self.x == self.grid_size-3:\n",
    "                self.x = self.x-1\n",
    "            else:\n",
    "                self.x = self.x + 1\n",
    "        elif action == 1:                    #go down\n",
    "            if self.x == 2:\n",
    "                self.x = self.x+1\n",
    "            else:\n",
    "                self.x = self.x-1\n",
    "        elif action == 2:                    #go right\n",
    "            if self.y == self.grid_size - 3:\n",
    "                self.y = self.y - 1\n",
    "            else:\n",
    "                self.y = self.y + 1\n",
    "        elif action == 3:                    #go left\n",
    "            if self.y == 2:\n",
    "                self.y = self.y + 1\n",
    "            else:\n",
    "                self.y = self.y - 1\n",
    "        else:\n",
    "            RuntimeError('Error: action not recognized')\n",
    "\n",
    "        self.t = self.t + 1\n",
    "        \n",
    "        #eat the content of the new position and get the corresponding reward\n",
    "        reward = self.board[self.x, self.y]   \n",
    "        self.board[self.x, self.y] = 0\n",
    "        \n",
    "        game_over = self.t > self.max_time\n",
    "        state = np.concatenate((self.board.reshape(self.grid_size, self.grid_size,1),\n",
    "                        self.position.reshape(self.grid_size, self.grid_size,1)),axis=2)\n",
    "        # the shape of a state is (5,5,2)\n",
    "        state = state[self.x-2:self.x+3,self.y-2:self.y+3,:]\n",
    "\n",
    "        return state, reward, game_over\n",
    "\n",
    "    def reset(self):\n",
    "        \"\"\"This function resets the game and returns the initial state\"\"\"\n",
    "\n",
    "        self.x = np.random.randint(3, self.grid_size-3, size=1)[0]\n",
    "        self.y = np.random.randint(3, self.grid_size-3, size=1)[0]\n",
    "\n",
    "\n",
    "        bonus = 0.5*np.random.binomial(1,self.temperature,size=self.grid_size**2)\n",
    "        bonus = bonus.reshape(self.grid_size,self.grid_size)\n",
    "\n",
    "        malus = -1.0*np.random.binomial(1,self.temperature,size=self.grid_size**2)\n",
    "        malus = malus.reshape(self.grid_size, self.grid_size)\n",
    "\n",
    "        self.to_draw = np.zeros((self.max_time+2, self.grid_size*self.scale, self.grid_size*self.scale, 3))\n",
    "\n",
    "\n",
    "        malus[bonus>0]=0\n",
    "\n",
    "        self.board = bonus + malus\n",
    "\n",
    "        self.position = np.zeros((self.grid_size, self.grid_size))\n",
    "        self.position[0:2,:]= -1\n",
    "        self.position[:,0:2] = -1\n",
    "        self.position[-2:, :] = -1\n",
    "        self.position[:, -2:] = -1\n",
    "        self.board[self.x,self.y] = 0\n",
    "        self.t = 0\n",
    "\n",
    "        state = np.concatenate((\n",
    "                               self.board.reshape(self.grid_size, self.grid_size,1),\n",
    "                        self.position.reshape(self.grid_size, self.grid_size,1)),axis=2)\n",
    "\n",
    "        state = state[self.x - 2:self.x + 3, self.y - 2:self.y + 3, :]\n",
    "        return state"
   ]
  },
  {
   "cell_type": "markdown",
   "metadata": {
    "colab_type": "text",
    "id": "C66QBBtnjQG7"
   },
   "source": [
    "### Parameters\n",
    "\n",
    "The following elements are important because they correspond to the hyper parameters for this project:"
   ]
  },
  {
   "cell_type": "code",
   "execution_count": 0,
   "metadata": {
    "colab": {},
    "colab_type": "code",
    "id": "AcGp-6VZjQG9"
   },
   "outputs": [],
   "source": [
    "# parameters\n",
    "size = 13\n",
    "T=200\n",
    "temperature=0.3\n",
    "epochs_train=31 # set small when debugging\n",
    "epochs_test=11 # set small when debugging\n",
    "\n",
    "# display videos\n",
    "def display_videos(name):\n",
    "    video = io.open(name, 'r+b').read()\n",
    "    encoded = base64.b64encode(video)\n",
    "    return '''<video alt=\"test\" controls>\n",
    "                <source src=\"data:video/mp4;base64,{0}\" type=\"video/mp4\" />\n",
    "             </video>'''.format(encoded.decode('ascii'))"
   ]
  },
  {
   "cell_type": "markdown",
   "metadata": {
    "colab_type": "text",
    "id": "1Uaw7mixjQHC"
   },
   "source": [
    "__Question 2__ Explain the use of the arrays ```position``` and ```board```."
   ]
  },
  {
   "cell_type": "markdown",
   "metadata": {
    "colab_type": "text",
    "id": "CSPgPgj_jQHE"
   },
   "source": [
    "The array `board` saves the global state of the game, with the current content of the cases (eather a piece of cheese = a bonus, a poisonous cell = a malus or 0 if the rat has already been through the cell before the current time). It is updated along with the movements of the rat (the agent).  \n",
    "\n",
    "The array `position` is used to build the current visual field of the rat : if the rat is not close to any border, then his visual field is full, an array of size $5\\times 5$ full of $0$. However, if he gets close from a border, he will see the border, which is represented by values $-1$ in its visual field. We extract this visual field (second array of the variable `state`) from the variable `position`, around the current position (`self.x`, `self.y`) of the rat. When an action is taken by the agent, the variable `position` also stores the previous location of the agent (the new one is stored with (`self.x`, `self.y`)) by placing a $1$ to the current `state` to the previous location."
   ]
  },
  {
   "cell_type": "markdown",
   "metadata": {
    "colab_type": "text",
    "id": "k8S98P7hjQHF"
   },
   "source": [
    "## Random Agent"
   ]
  },
  {
   "cell_type": "markdown",
   "metadata": {
    "colab_type": "text",
    "id": "mlt2w0z7jQHG"
   },
   "source": [
    "***\n",
    "__Question 3__ Implement a random Agent (only ```learned_act``` needs to be implemented):"
   ]
  },
  {
   "cell_type": "code",
   "execution_count": 0,
   "metadata": {
    "colab": {},
    "colab_type": "code",
    "id": "87ZlJ5k6jQHH"
   },
   "outputs": [],
   "source": [
    "class RandomAgent(Agent):\n",
    "    def __init__(self):\n",
    "        super(RandomAgent, self).__init__()\n",
    "        pass\n",
    "\n",
    "    def learned_act(self, s):\n",
    "        return np.random.randint(0, self.n_action, size=1)[0]\n",
    "        "
   ]
  },
  {
   "cell_type": "markdown",
   "metadata": {
    "colab_type": "text",
    "id": "RH_D0fuzjQHL"
   },
   "source": [
    "***\n",
    "***\n",
    "__Question 4__ Visualize the game moves. You need to fill in the following function for the evaluation:"
   ]
  },
  {
   "cell_type": "code",
   "execution_count": 0,
   "metadata": {
    "colab": {},
    "colab_type": "code",
    "id": "MWFPQZW5jQHN"
   },
   "outputs": [],
   "source": [
    "def test(agent, env, epochs, prefix=''):\n",
    "    # Number of won games\n",
    "    score = 0\n",
    "        \n",
    "    for e in range(epochs):\n",
    "        \n",
    "        # At each epoch, we restart to a fresh game and get the initial state\n",
    "        state = env.reset()\n",
    "        # This assumes that the games will end\n",
    "        game_over = False\n",
    "        \n",
    "        win = 0\n",
    "        lose = 0\n",
    "\n",
    "        while not game_over:\n",
    "            # The agent performs an action\n",
    "            action = agent.act(state, train=False)\n",
    "\n",
    "            # Apply an action to the environment, get the next state, the reward\n",
    "            # and if the games end\n",
    "            prev_state = state\n",
    "            state, reward, game_over = env.act(action)\n",
    "\n",
    "            # Update the counters\n",
    "            if reward > 0:\n",
    "                win = win + reward\n",
    "            if reward < 0:\n",
    "                lose = lose - reward\n",
    "\n",
    "            # Apply the reinforcement strategy\n",
    "            loss = agent.reinforce(prev_state, state,  action, reward, game_over)\n",
    "\n",
    "\n",
    "        \n",
    "        # Save as a mp4\n",
    "        env.draw(prefix+str(e))\n",
    "\n",
    "        # Update stats\n",
    "        score = score + win-lose\n",
    "        \n",
    "        print(\"Epoch {:03d}/{:03d}\".format(e+1, epochs))\n",
    "\n",
    "        print(\"Win/lose count {}/{}. Average score ({})\\n\"\n",
    "              .format(win, lose, score/(1+e)))\n",
    "        \n",
    "        \n",
    "    print('Final score: '+str(score/epochs))\n"
   ]
  },
  {
   "cell_type": "code",
   "execution_count": 26,
   "metadata": {
    "colab": {
     "base_uri": "https://localhost:8080/",
     "height": 1000
    },
    "colab_type": "code",
    "executionInfo": {
     "elapsed": 21000,
     "status": "ok",
     "timestamp": 1583073396363,
     "user": {
      "displayName": "Adrian Jarret",
      "photoUrl": "",
      "userId": "03614014099574646852"
     },
     "user_tz": -60
    },
    "id": "ujsCKmNLjQHS",
    "outputId": "8e94ba39-1644-4abb-c7ba-80fb3da71548"
   },
   "outputs": [
    {
     "name": "stdout",
     "output_type": "stream",
     "text": [
      "Epoch 001/021\n",
      "Win/lose count 11.5/18.0. Average score (-6.5)\n",
      "\n",
      "Epoch 002/021\n",
      "Win/lose count 12.0/15.0. Average score (-4.75)\n",
      "\n",
      "Epoch 003/021\n",
      "Win/lose count 7.5/16.0. Average score (-6.0)\n",
      "\n",
      "Epoch 004/021\n",
      "Win/lose count 11.0/14.0. Average score (-5.25)\n",
      "\n",
      "Epoch 005/021\n",
      "Win/lose count 11.0/11.0. Average score (-4.2)\n",
      "\n",
      "Epoch 006/021\n",
      "Win/lose count 9.0/11.0. Average score (-3.8333333333333335)\n",
      "\n",
      "Epoch 007/021\n",
      "Win/lose count 8.0/16.0. Average score (-4.428571428571429)\n",
      "\n",
      "Epoch 008/021\n",
      "Win/lose count 9.0/12.0. Average score (-4.25)\n",
      "\n",
      "Epoch 009/021\n",
      "Win/lose count 11.5/10.0. Average score (-3.611111111111111)\n",
      "\n",
      "Epoch 010/021\n",
      "Win/lose count 5.0/15.0. Average score (-4.25)\n",
      "\n",
      "Epoch 011/021\n",
      "Win/lose count 12.5/16.0. Average score (-4.181818181818182)\n",
      "\n",
      "Epoch 012/021\n",
      "Win/lose count 9.5/11.0. Average score (-3.9583333333333335)\n",
      "\n",
      "Epoch 013/021\n",
      "Win/lose count 9.5/17.0. Average score (-4.230769230769231)\n",
      "\n",
      "Epoch 014/021\n",
      "Win/lose count 8.5/16.0. Average score (-4.464285714285714)\n",
      "\n",
      "Epoch 015/021\n",
      "Win/lose count 11.0/9.0. Average score (-4.033333333333333)\n",
      "\n",
      "Epoch 016/021\n",
      "Win/lose count 8.5/16.0. Average score (-4.25)\n",
      "\n",
      "Epoch 017/021\n",
      "Win/lose count 10.0/14.0. Average score (-4.235294117647059)\n",
      "\n",
      "Epoch 018/021\n",
      "Win/lose count 7.5/19.0. Average score (-4.638888888888889)\n",
      "\n",
      "Epoch 019/021\n",
      "Win/lose count 8.5/7.0. Average score (-4.315789473684211)\n",
      "\n",
      "Epoch 020/021\n",
      "Win/lose count 10.5/16.0. Average score (-4.375)\n",
      "\n",
      "Epoch 021/021\n",
      "Win/lose count 7.0/17.0. Average score (-4.642857142857143)\n",
      "\n",
      "Final score: -4.642857142857143\n"
     ]
    },
    {
     "data": {
      "text/html": [
       "<video alt=\"test\" controls>\n",
       "                <source src=\"data:video/mp4;base64,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\" type=\"video/mp4\" />\n",
       "             </video>"
      ],
      "text/plain": [
       "<IPython.core.display.HTML object>"
      ]
     },
     "execution_count": 26,
     "metadata": {
      "tags": []
     },
     "output_type": "execute_result"
    }
   ],
   "source": [
    "# Initialize the game\n",
    "env = Environment(grid_size=size, max_time=T,temperature=temperature)\n",
    "\n",
    "# Initialize the agent!\n",
    "agent = RandomAgent()\n",
    "\n",
    "test(agent, env, epochs_test,prefix='random')\n",
    "HTML(display_videos('random0.mp4'))"
   ]
  },
  {
   "cell_type": "markdown",
   "metadata": {
    "colab_type": "text",
    "id": "4CnhcJ7DjQHX"
   },
   "source": [
    "***\n",
    "## DQN"
   ]
  },
  {
   "cell_type": "markdown",
   "metadata": {
    "colab_type": "text",
    "id": "8KPqY4hbjQHY"
   },
   "source": [
    "Let us assume here that $T=\\infty$.\n",
    "\n",
    "***\n",
    "__Question 5__ Let $\\pi$ be a policy, show that:\n",
    "\n",
    "\\begin{equation*}\n",
    "Q^{\\pi}(s,a)=E_{(s',a')\\sim p(.|s,a)}[r(s,a)+\\gamma Q^{\\pi}(s',a')]\n",
    "\\end{equation*}\n",
    "\n",
    "Then, show that for the optimal policy $\\pi^*$ (we assume its existence), the following holds: \n",
    "\n",
    "\\begin{equation*}\n",
    "Q^{*}(s,a)=E_{s'\\sim \\pi^*(.|s,a)}[r(s,a)+\\gamma\\max_{a'}Q^{*}(s',a')].\n",
    "\\end{equation*}\n",
    "Finally, deduce that a plausible objective is:\n",
    "\n",
    "\\begin{equation*}\n",
    "\\mathcal{L}(\\theta)=E_{s' \\sim \\pi^*(.|s,a)}\\Vert r+\\gamma\\max\\max_{a'}Q(s',a',\\theta)-Q(s,a,\\theta)\\Vert^{2}.\n",
    "\\end{equation*}\n",
    "\n",
    "\n"
   ]
  },
  {
   "cell_type": "markdown",
   "metadata": {
    "colab_type": "text",
    "id": "7YP4esLzjQHa"
   },
   "source": [
    "***\n",
    "\n",
    "Let us recall that :\n",
    "\n",
    "\\begin{equation*}Q^\\pi(s,a)=E_{p^{\\pi}}[\\sum_{t=0}^{+\\infty}\\gamma^{t}r(s_{t},a_{t})|s_{0}=s,a_{0}=a] \\> .\n",
    "\\end{equation*}\n",
    "\n",
    "Then, we can write :\n",
    "\n",
    "\\begin{align*}\n",
    "Q^\\pi(s,a) & =E[\\sum_{t=0}^{+\\infty}\\gamma^{t}r(s_{t},a_{t})|s_{0}=s,a_{0}=a] \\\\\n",
    "& = E[r(s,a) + \\sum_{t=1}^{+\\infty}\\gamma^{t}r(s_{t},a_{t})|s_{0}=s,a_{0}=a]  \\\\\n",
    "& = r(s,a) + \\gamma E[ \\sum_{t=0}^{+\\infty}\\gamma^{t}r(s_{t+1},a_{t+1})|s_{0}=s,a_{0}=a]  \\\\\n",
    "& = r(s,a) + \\gamma E[E[ \\sum_{t=0}^{+\\infty}\\gamma^{t}r(s_{t+1},a_{t+1})|s_{1}=s',a_{1}=a']|s_{0}=s,a_{0}=a]  \\\\\n",
    "& = r(s,a) + \\gamma E[Q^\\pi(s', a')|s_{0}=s,a_{0}=a]  \\\\\n",
    "& = E_{(s',a')\\sim p(.|s,a)}[r(s,a)+\\gamma Q^{\\pi}(s',a')]\n",
    "\\end{align*}\n",
    "\n",
    "Consequently, if we recall that :\n",
    "\n",
    "$$ Q^*(s,a)  = \\max_{\\pi} Q^\\pi(s,a)$$\n",
    "\n",
    "We obtain :\n",
    "\n",
    "\\begin{align*}\n",
    "Q^*(s,a) &= \\max_{\\pi} E_{(s',a')|(s,a)}[r(s,a)+\\gamma Q^{\\pi}(s',a')] \\\\\n",
    "&= r(s,a) + \\gamma \\max_{\\pi} \\sum_{(a', s')} \\pi(a'|s')p(s'|s,a)Q^\\pi(s',a') \\\\\n",
    "&= r(s,a) + \\gamma E_{s' \\sim p(. |s,a)}[\\max_{\\pi}\\sum_{a'} \\pi(a'|s')Q^\\pi(s',a')]\n",
    "\\end{align*}\n",
    "\n",
    "We notice that this quantity is maximal when $\\pi(a'|s') = 1$ for $a' = \\text{arg} \\max_{a} Q^*(s', a)$ and $\\pi(a'|s') = 0$ otherwise.\n",
    "Then, we obtain :\n",
    "\n",
    "\\begin{equation*}\n",
    "Q^{*}(s,a)=E_{s'\\sim \\pi^*(.|s,a)}[r(s,a)+\\gamma\\max_{a'}Q^{*}(s',a')].\n",
    "\\end{equation*}\n",
    "\n",
    "\n",
    "\n",
    "Using such a loss guaranties that $\\mathcal{L}(\\theta) \\geq 0$ and $\\mathcal{L}(\\theta^*) = 0$, so it seems plausible to use it.\n",
    "\n",
    "\n",
    "\n",
    "\n"
   ]
  },
  {
   "cell_type": "markdown",
   "metadata": {
    "colab_type": "text",
    "id": "gPNaINTBjQHb"
   },
   "source": [
    "***\n",
    "The DQN-learning algorithm relies on these derivations to train the parameters $\\theta$ of a Deep Neural Network:\n",
    "\n",
    "1. At the state $s_t$, select the action $a_t$ with best reward using $Q_t$ and store the results;\n",
    "\n",
    "2. Obtain the new state $s_{t+1}$ from the environment $p$;\n",
    "\n",
    "3. Store $(s_t,a_t,s_{t+1})$;\n",
    "\n",
    "4. Obtain $Q_{t+1}$ by minimizing  $\\mathcal{L}$ from a recovered batch from the previously stored results.\n",
    "\n",
    "***\n",
    "__Question 6__ Implement the class ```Memory``` that stores moves (in a replay buffer) via ```remember``` and provides a ```random_access``` to these. Specify a maximum memory size to avoid side effects. You can for example use a ```list()``` and set by default ```max_memory=100```."
   ]
  },
  {
   "cell_type": "code",
   "execution_count": 0,
   "metadata": {
    "colab": {},
    "colab_type": "code",
    "id": "_d4wwdr2jQHh"
   },
   "outputs": [],
   "source": [
    "class Memory(object):\n",
    "    def __init__(self, max_memory=100):\n",
    "        self.max_memory = max_memory\n",
    "        self.memory = list()\n",
    "\n",
    "    def remember(self, m):\n",
    "        self.memory.append(m)\n",
    "        if len(self.memory)>self.max_memory:\n",
    "            self.memory.pop(0)\n",
    "\n",
    "    def random_access(self):\n",
    "        ind = np.random.randint(0, len(self.memory))    #returns integer in [0, len(self.memory)-1]\n",
    "        return self.memory[ind]"
   ]
  },
  {
   "cell_type": "markdown",
   "metadata": {
    "colab_type": "text",
    "id": "94bPIZRyjQHl"
   },
   "source": [
    "***\n",
    "The pipeline we will use for training is given below:"
   ]
  },
  {
   "cell_type": "code",
   "execution_count": 0,
   "metadata": {
    "colab": {},
    "colab_type": "code",
    "id": "jW1Q-UqtjQHn"
   },
   "outputs": [],
   "source": [
    "def train(agent,env,epoch,prefix=''):\n",
    "    # Number of won games\n",
    "    score = 0\n",
    "    loss = 0\n",
    "\n",
    "    for e in range(epoch):\n",
    "        # At each epoch, we restart to a fresh game and get the initial state\n",
    "        state = env.reset()\n",
    "        # This assumes that the games will terminate\n",
    "        game_over = False\n",
    "\n",
    "        win = 0\n",
    "        lose = 0\n",
    "\n",
    "        while not game_over:\n",
    "            # The agent performs an action\n",
    "            action = agent.act(state)\n",
    "\n",
    "            # Apply an action to the environment, get the next state, the reward\n",
    "            # and if the games end\n",
    "            prev_state = state\n",
    "            state, reward, game_over = env.act(action)\n",
    "\n",
    "            # Update the counters\n",
    "            if reward > 0:\n",
    "                win = win + reward\n",
    "            if reward < 0:\n",
    "                lose = lose -reward\n",
    "\n",
    "            # Apply the reinforcement strategy\n",
    "            loss = agent.reinforce(prev_state, state,  action, reward, game_over)\n",
    "\n",
    "        # Save as a mp4\n",
    "        if e % 10 == 0:\n",
    "            env.draw(prefix+str(e))\n",
    "\n",
    "        # Update stats\n",
    "        score += win-lose\n",
    "\n",
    "        print(\"Epoch {:03d}/{:03d} | Loss {:.4f} | Win/lose count {}/{} ({})\"\n",
    "              .format(e+1, epoch, loss, win, lose, win-lose))\n",
    "        agent.save(name_weights=prefix+'model.h5',name_model=prefix+'model.json')"
   ]
  },
  {
   "cell_type": "markdown",
   "metadata": {
    "colab_type": "text",
    "id": "eWHi5eZZkMXX"
   },
   "source": [
    "### DQN Agent\n"
   ]
  },
  {
   "cell_type": "markdown",
   "metadata": {
    "colab_type": "text",
    "id": "pBJjhi0djQHv"
   },
   "source": [
    "***\n",
    "__Question 7__ Implement the DQN training algorithm using a cascade of fully connected layers. You can use different learning rate, batch size or memory size parameters. In particular, the loss might oscillate while the player will start to win the games. You have to find a good criterium."
   ]
  },
  {
   "cell_type": "code",
   "execution_count": 0,
   "metadata": {
    "colab": {},
    "colab_type": "code",
    "id": "lhYzeexUjQHx"
   },
   "outputs": [],
   "source": [
    "class DQN(Agent):\n",
    "    def __init__(self, grid_size,  epsilon = 0.1, memory_size=100, batch_size = 16,n_state=2):\n",
    "        super(DQN, self).__init__(epsilon = epsilon)\n",
    "\n",
    "        # Discount for Q learning\n",
    "        self.discount = 0.99\n",
    "        \n",
    "        self.grid_size = grid_size\n",
    "        \n",
    "        # number of state\n",
    "        self.n_state = n_state\n",
    "\n",
    "        # Memory\n",
    "        self.memory = Memory(memory_size)\n",
    "        \n",
    "        # Batch size when learning\n",
    "        self.batch_size = batch_size\n",
    "\n",
    "    def learned_act(self, s):\n",
    "        # We suppose we have a trained model that predict the next reward for any action taken from state s\n",
    "        Q_values = self.model.predict(s[np.newaxis,:])[0]\n",
    "\n",
    "        # We simply take the action that maximizes the reward\n",
    "        return np.argmax(Q_values)\n",
    "\n",
    "    def reinforce(self, s_, n_s_, a_, r_, game_over_):\n",
    "        # Two steps: first memorize the states, second learn from the pool\n",
    "\n",
    "        self.memory.remember([s_, n_s_, a_, r_, game_over_])\n",
    "        \n",
    "        input_states = np.zeros((self.batch_size, 5,5,self.n_state))\n",
    "        target_q = np.zeros((self.batch_size, 4))\n",
    "        \n",
    "        for i in range(self.batch_size):\n",
    "            #build an element of batch from previous steps\n",
    "            s, n_s, a, r, game_over = self.memory.random_access()\n",
    "            input_states[i] = s\n",
    "\n",
    "            #access the current value of Q for all the actions\n",
    "            target_q[i] = self.model.predict(s[np.newaxis,:])[0]\n",
    "\n",
    "            #there are two possibilities : \n",
    "            \n",
    "            #either the game is over after this action          \n",
    "            if game_over:\n",
    "                #in this situation, we don't have new information : we keep the reward with the same value\n",
    "                target_q[i, a] = r\n",
    "\n",
    "            #either the game keeps going : the target value of q is obtained\n",
    "            # with the asymptotic value obtained with Bellman equation, for this given action\n",
    "            else:\n",
    "                target_q[i, a] = r + self.discount*max(self.model.predict(n_s[np.newaxis,:])[0])\n",
    "                \n",
    "        # We can now update the weight and the loss of the model.\n",
    "        # HINT: Clip the target to avoid exploiding gradients.. -- clipping is a bit tighter\n",
    "        target_q = np.clip(target_q, -3, 3)\n",
    "\n",
    "        l = self.model.train_on_batch(input_states, target_q)\n",
    "\n",
    "        return l\n",
    "\n",
    "    def save(self,name_weights='model.h5',name_model='model.json'):\n",
    "        self.model.save_weights(name_weights, overwrite=True)\n",
    "        with open(name_model, \"w\") as outfile:\n",
    "            json.dump(self.model.to_json(), outfile)\n",
    "            \n",
    "    def load(self,name_weights='model.h5',name_model='model.json'):\n",
    "        with open(name_model, \"r\") as jfile:\n",
    "            model = model_from_json(json.load(jfile))\n",
    "        model.load_weights(name_weights)\n",
    "        model.compile(\"adam\", \"mse\")\n",
    "        self.model = model\n",
    "      "
   ]
  },
  {
   "cell_type": "markdown",
   "metadata": {
    "colab_type": "text",
    "id": "9qYcn3mb2vC_"
   },
   "source": [
    "### Fully connected model"
   ]
  },
  {
   "cell_type": "code",
   "execution_count": 0,
   "metadata": {
    "colab": {},
    "colab_type": "code",
    "id": "N9Su2wXY2rD7"
   },
   "outputs": [],
   "source": [
    "class DQN_FC(DQN):\n",
    "    def __init__(self, *args, lr=0.1,**kwargs):\n",
    "        super(DQN_FC, self).__init__( *args,**kwargs)\n",
    "        \n",
    "        # NN Model\n",
    "        \n",
    "        model = Sequential()\n",
    "        model.add(Flatten(input_shape=(5,5,self.n_state,)))\n",
    "        model.add(Dense(32,activation ='relu')) #simple one hidden layer network\n",
    "        model.add(Dropout(0.2))\n",
    "        model.add(Dense(4, activation='linear'))\n",
    "        model.summary()\n",
    "        \n",
    "        model.compile(Adam(lr=lr), \"mse\")\n",
    "        self.model = model"
   ]
  },
  {
   "cell_type": "markdown",
   "metadata": {
    "colab_type": "text",
    "id": "TFfcOEvHBqZ5"
   },
   "source": [
    "We have tried to run this model with various different shapes of the neural network, however we obtained the best results with quite narrow layers (only 32 neurons on the hidden layer). We changed the solver, Adam performs better in this situation, and we also decresed the learning rate, in orde to try to avoid oscillating loss. It requires to run more epochs though. We finally obtain decent score."
   ]
  },
  {
   "cell_type": "code",
   "execution_count": 97,
   "metadata": {
    "colab": {
     "base_uri": "https://localhost:8080/",
     "height": 1000
    },
    "colab_type": "code",
    "executionInfo": {
     "elapsed": 517633,
     "status": "ok",
     "timestamp": 1583079985527,
     "user": {
      "displayName": "Adrian Jarret",
      "photoUrl": "",
      "userId": "03614014099574646852"
     },
     "user_tz": -60
    },
    "id": "C-aA35KTjQH1",
    "outputId": "77f6c227-43ad-4d93-beca-bdb09969656c"
   },
   "outputs": [
    {
     "name": "stdout",
     "output_type": "stream",
     "text": [
      "Model: \"sequential_30\"\n",
      "_________________________________________________________________\n",
      "Layer (type)                 Output Shape              Param #   \n",
      "=================================================================\n",
      "flatten_29 (Flatten)         (None, 50)                0         \n",
      "_________________________________________________________________\n",
      "dense_48 (Dense)             (None, 32)                1632      \n",
      "_________________________________________________________________\n",
      "dropout_12 (Dropout)         (None, 32)                0         \n",
      "_________________________________________________________________\n",
      "dense_49 (Dense)             (None, 4)                 132       \n",
      "=================================================================\n",
      "Total params: 1,764\n",
      "Trainable params: 1,764\n",
      "Non-trainable params: 0\n",
      "_________________________________________________________________\n",
      "Epoch 001/031 | Loss 0.0206 | Win/lose count 6.0/3.0 (3.0)\n",
      "Epoch 002/031 | Loss 0.0114 | Win/lose count 0/5.0 (-5.0)\n",
      "Epoch 003/031 | Loss 0.0099 | Win/lose count 5.0/4.0 (1.0)\n",
      "Epoch 004/031 | Loss 0.0102 | Win/lose count 6.0/1.0 (5.0)\n",
      "Epoch 005/031 | Loss 0.0153 | Win/lose count 8.5/6.0 (2.5)\n",
      "Epoch 006/031 | Loss 0.0135 | Win/lose count 7.5/9.0 (-1.5)\n",
      "Epoch 007/031 | Loss 0.0405 | Win/lose count 13.0/9.0 (4.0)\n",
      "Epoch 008/031 | Loss 0.0127 | Win/lose count 6.0/6.0 (0.0)\n",
      "Epoch 009/031 | Loss 0.0142 | Win/lose count 17.5/12.0 (5.5)\n",
      "Epoch 010/031 | Loss 0.0185 | Win/lose count 11.5/7.0 (4.5)\n",
      "Epoch 011/031 | Loss 0.0107 | Win/lose count 9.0/4.0 (5.0)\n",
      "Epoch 012/031 | Loss 0.0152 | Win/lose count 12.5/9.0 (3.5)\n",
      "Epoch 013/031 | Loss 0.0182 | Win/lose count 12.5/4.0 (8.5)\n",
      "Epoch 014/031 | Loss 0.0020 | Win/lose count 9.5/1.0 (8.5)\n",
      "Epoch 015/031 | Loss 0.0033 | Win/lose count 13.5/9.0 (4.5)\n",
      "Epoch 016/031 | Loss 0.0044 | Win/lose count 7.5/1.0 (6.5)\n",
      "Epoch 017/031 | Loss 0.0013 | Win/lose count 18.5/7.0 (11.5)\n",
      "Epoch 018/031 | Loss 0.0091 | Win/lose count 18.0/4.0 (14.0)\n",
      "Epoch 019/031 | Loss 0.0046 | Win/lose count 12.0/3.0 (9.0)\n",
      "Epoch 020/031 | Loss 0.0029 | Win/lose count 16.0/5.0 (11.0)\n",
      "Epoch 021/031 | Loss 0.0072 | Win/lose count 15.0/8.0 (7.0)\n",
      "Epoch 022/031 | Loss 0.0299 | Win/lose count 12.0/7.0 (5.0)\n",
      "Epoch 023/031 | Loss 0.0027 | Win/lose count 11.5/7.0 (4.5)\n",
      "Epoch 024/031 | Loss 0.0657 | Win/lose count 8.5/4.0 (4.5)\n",
      "Epoch 025/031 | Loss 0.0034 | Win/lose count 15.0/11.0 (4.0)\n",
      "Epoch 026/031 | Loss 0.0132 | Win/lose count 17.0/8.0 (9.0)\n",
      "Epoch 027/031 | Loss 0.0049 | Win/lose count 25.0/10.0 (15.0)\n",
      "Epoch 028/031 | Loss 0.0024 | Win/lose count 11.0/2.0 (9.0)\n",
      "Epoch 029/031 | Loss 0.0026 | Win/lose count 17.5/6.0 (11.5)\n",
      "Epoch 030/031 | Loss 0.0035 | Win/lose count 18.0/3.0 (15.0)\n",
      "Epoch 031/031 | Loss 0.0056 | Win/lose count 10.5/7.0 (3.5)\n"
     ]
    },
    {
     "data": {
      "text/html": [
       "<video alt=\"test\" controls>\n",
       "                <source src=\"data:video/mp4;base64,AAAAIGZ0eXBpc29tAAACAGlzb21pc28yYXZjMW1wNDEAAAAIZnJlZQAAF01tZGF0AAACrQYF//+p3EXpvebZSLeWLNgg2SPu73gyNjQgLSBjb3JlIDE1MiByMjg1NCBlOWE1OTAzIC0gSC4yNjQvTVBFRy00IEFWQyBjb2RlYyAtIENvcHlsZWZ0IDIwMDMtMjAxNyAtIGh0dHA6Ly93d3cudmlkZW9sYW4ub3JnL3gyNjQuaHRtbCAtIG9wdGlvbnM6IGNhYmFjPTEgcmVmPTMgZGVibG9jaz0xOjA6MCBhbmFseXNlPTB4MToweDExMSBtZT1oZXggc3VibWU9NyBwc3k9MSBwc3lfcmQ9MS4wMDowLjAwIG1peGVkX3JlZj0xIG1lX3JhbmdlPTE2IGNocm9tYV9tZT0xIHRyZWxsaXM9MSA4eDhkY3Q9MCBjcW09MCBkZWFkem9uZT0yMSwxMSBmYXN0X3Bza2lwPTEgY2hyb21hX3FwX29mZnNldD00IHRocmVhZHM9MyBsb29rYWhlYWRfdGhyZWFkcz0xIHNsaWNlZF90aHJlYWRzPTAgbnI9MCBkZWNpbWF0ZT0xIGludGVybGFjZWQ9MCBibHVyYXlfY29tcGF0PTAgY29uc3RyYWluZWRfaW50cmE9MCBiZnJhbWVzPTMgYl9weXJhbWlkPTIgYl9hZGFwdD0xIGJfYmlhcz0wIGRpcmVjdD0xIHdlaWdodGI9MSBvcGVuX2dvcD0wIHdlaWdodHA9MiBrZXlpbnQ9MjUwIGtleWludF9taW49MjUgc2NlbmVjdXQ9NDAgaW50cmFfcmVmcmVzaD0wIHJjX2xvb2thaGVhZD00MCByYz1jcmYgbWJ0cmVlPTEgY3JmPTIzLjAgcWNvbXA9MC42MCBxcG1pbj0wIHFwbWF4PTY5IHFwc3RlcD00IGlwX3JhdGlvPTEuNDAgYXE9MToxLjAwAIAAAAKOZYiEADf//vaH+BTZWBP+Wb/9DX/cj9uPrP1xYyEE31qvIejAGS+1H+b/rFFs6Z6UB/fgCJQAc24ZwpHZJ46w5MIvVHwKXAT74FNJkWfWMgQvVCkPM7qf31g3GUSxiFLuGHiIL74QP8qlgQn+quRjrWCJBtVInMCevWQmpf8Vvji4LfQcivlP8VdJSxrpo0nnpG+vP2CTtfH5s/XkAYy0eOTYXkgrv7pbELqa6O8I+x/W26NQaApRARLH87ZenJHysNzrA/BrEwzqefB8EhWEnqkWalb44RB/tQzONkJkIVbYuAT4vR+uVT8ZGE6N+I4bg4/u1C97bmpSaqf+RzE9BJh5VWyDiSylkDc1dshotOc2cikiOkLdFtzuIvpiYV5muomm7sURLwKKlb/35C+Hjbi4ZITXZ7XUUBECeBYqWofQbY0AvvkATpLnP7jxreHsKuAu0P8qd3wyq2JurCbPiV3k5G/54mrBsAcUZRfYoQ1u4KR5L1MNYXiL/AaI76V42AjPNQiaR50VMivSSAoDyjVbJDGrY+S6jMBSI2b1Y58UXrB1YW1I3W57abAQY5SJoPSptRTmthhwd6pDBNbl08mzwKj73MgkxgvR48achcQrdTYn/P3XWQYaG74e7mbSCAfHrFnlgh9/uUR+xVQnVRRv4AZCQWpDYsLC4o45WAuhMrqO87YlfSG8vq4wGACAEd1ZbGSl+GLVuSO7wdN5b0e5YEuP1s0F7Xh5dbZ+rGLafBhkr6KliWTIsoxq+TQhYM0mzBabF2NR1RIl+BCeP6XypiEb6pWG1A1Ri6QWhPF4YuwRCp6/RWrR1BaJiIaTIV4ysb34eEsMMVyIkUMtP4xEXDWG82oCCHSAAAY9AAAAGEGaJGxDf/6nhAAM3IKpj/Vu32D8JS3KdgAAACNBnkJ4hf8AB5mwW/+PhKl3/+IQEBln/+IGO1Z/+f5zI6Q1yQAAABABnmF0Qr8ACfZokT4sxS6QAAAAEAGeY2pCvwAKhYR5LmfJ+4EAAAAaQZplSahBaJlMCG///qeEAAzvsH+E4LdCrsEAAAAcQZqJSeEKUmUwIZ/+nhAAH99ff0LEUW8unbBWQQAAABBBnqdFNEwv/wAE+ZSWnJXhAAAAEAGexnRCvwAGwAQuA/KAHOAAAAAPAZ7IakK/AARW1ru+78TAAAAAG0GaykmoQWiZTAhv//6nhAADiA8KdaODZ/l0VQAAABxBmutJ4QpSZTAhv/6nhAADng8KL4IZt4ModPyIAAAAH0GbDUnhDomUwU0TDf/+p4QABc8VqmP9ST54XDp9dXgAAAAPAZ8sakK/AAS3Z5bhs2tjAAAAGUGbLknhDyZTAhv//qeEAAjqALNts+z570EAAAAoQZtSSeEPJlMCG//+p4QADd++z70bXXgU2B0r8CmWzk+BQpPMxuFJgQAAABFBn3BFETwv/wAILQIGFFuCyAAAAA8Bn490Qr8AC19AOhOTKCAAAAAQAZ+RakK/AAeZmDyXM+UlgQAAABxBm5NJqEFomUwId//+qZYABMfkdB2/yOYdINjgAAAAG0Gbt0nhClJlMCG//qeEAAmqXtIMc5z3Nl1xhAAAABBBn9VFNEwv/wAF0oBbPhxPAAAADwGf9HRCvwAHmsVjCFX0wAAAABABn/ZqQr8AB8WeEPGhrP2BAAAAGkGb+EmoQWiZTAh3//6plgAE5+POlnR1PMfBAAAAGkGaHEnhClJlMCG//qeEAAl3x0+5kqtJ7TkwAAAAEEGeOkU0TC//AAWugQUobmkAAAAPAZ5ZdEK/AAeYvQGSXWCAAAAADwGeW2pCvwAHmB/VIoEsMQAAABlBml5JqEFomUwU8O/+qZYABMFTh/vtL7uTAAAAEAGefWpCvwAHmZ4Q8aGtAYAAAAASQZpiSeEKUmUwId/+qZYAAJWAAAAADEGegEU0TC//AACygQAAAA8Bnr90Qr8AB8WwNDznmIEAAAAPAZ6hakK/AAfDnDRK55iBAAAAEkGapkmoQWiZTAhv//6nhAABJwAAAAxBnsRFESwv/wAAsoEAAAAPAZ7jdEK/AAfFsDQ855iBAAAADwGe5WpCvwAHw5w0SueYgQAAABJBmupJqEFsmUwIb//+p4QAAScAAAAMQZ8IRRUsL/8AALKAAAAADwGfJ3RCvwAHxbA0POeYgQAAAA8BnylqQr8AB8OcNErnmIEAAAAaQZsrSahBbJlMCG///qeEAAl3x0+o40JD2UAAAAAbQZtMSeEKUmUwId/+qZYAAxntqDZ/fsg3FcGAAAAAHEGbcEnhDomUwId//qmWAAMpaOa3m19tQD++8hkAAAAQQZ+ORRE8L/8AA7X8PXXWQQAAABABn610Qr8ABR8tUDp2onyBAAAADwGfr2pCvwAFH5QPJgl6gAAAABNBm7RJqEFomUwId//+qZYAAJWAAAAADEGf0kURLC//AACygQAAAA8Bn/F0Qr8ABQ7KOI7Ls78AAAAPAZ/zakK/AAUOyjdZ6tEpAAAAE0Gb+EmoQWyZTAh3//6plgAAlYEAAAAMQZ4WRRUsL/8AALKAAAAADwGeNXRCvwAFDso4jsuzvwAAAA8BnjdqQr8ABQ7KN1nq0SkAAAATQZo8SahBbJlMCHf//qmWAACVgAAAAAxBnlpFFSwv/wAAsoEAAAAPAZ55dEK/AAUOyjiOy7O/AAAADwGee2pCvwAFDso3WerRKQAAABNBmmBJqEFsmUwId//+qZYAAJWBAAAADEGenkUVLC//AACygAAAAA8Bnr10Qr8ABQ7KOI7Ls78AAAAPAZ6/akK/AAUOyjdZ6tEpAAAAE0GapEmoQWyZTAh3//6plgAAlYAAAAAMQZ7CRRUsL/8AALKBAAAADwGe4XRCvwAFDso4jsuzvwAAAA8BnuNqQr8ABQ7KN1nq0SkAAAATQZroSahBbJlMCHf//qmWAACVgQAAAAxBnwZFFSwv/wAAsoEAAAAPAZ8ldEK/AAUOyjiOy7O/AAAADwGfJ2pCvwAFDso3WerRKQAAABNBmyxJqEFsmUwId//+qZYAAJWAAAAADEGfSkUVLC//AACygQAAAA8Bn2l0Qr8ABQ7KOI7Ls78AAAAPAZ9rakK/AAUOyjdZ6tEpAAAAIEGbcEmoQWyZTAh3//6plgADLe0v6rXwHDvSzlBuLnDhAAAAEEGfjkUVLC//AAO2nNJ4ZxcAAAAPAZ+tdEK/AAUeMIDJLt+BAAAADwGfr2pCvwAFHbbpRpDzAQAAABxBm7RJqEFsmUwIb//+p4QABfXVsxP9Xb3U/bX4AAAAEkGf0kUVLC//AAO3E0gNIueZaQAAABABn/F0Qr8ABR8tUDp2onyAAAAADwGf82pCvwAFHaymbZkc3gAAABpBm/VJqEFsmUwId//+qZYAAxUFlcZpf2xGwQAAABdBmhhJ4QpSZTAh3/6plgADGe0vG0yxGwAAABBBnjZFNEwr/wAFHzcUQqSFAAAADgGeV2pCvwAFHbGMm5XDAAAAHEGaXEmoQWiZTAh3//6plgADBe0v6/qtQshS6g4AAAAQQZ56RREsL/8AA4n8PXXawQAAABABnpl0Qr8ABNXVoyS3+1uAAAAADwGem2pCvwAEtta7vu++wQAAABNBmoBJqEFsmUwId//+qZYAAJWBAAAADEGevkUVLC//AACygAAAABABnt10Qr8ABLhAHQsYnHjwAAAAEAGe32pCvwAEtta7vJKTUeEAAAASQZrESahBbJlMCG///qeEAAEnAAAADEGe4kUVLC//AACygQAAABABnwF0Qr8ABLhAHQsYnHjwAAAAEAGfA2pCvwAEtta7vJKTUeEAAAAaQZsFSahBbJlMCHf//qmWAALt8gzPvE4/vtEAAAASQZspSeEKUmUwId/+qZYAAJWBAAAADEGfR0U0TC//AACygQAAAA8Bn2Z0Qr8ABKlSOI7Ls9cAAAAQAZ9oakK/AASpUjvZ4+6mgAAAABNBm21JqEFomUwId//+qZYAAJWBAAAADEGfi0URLC//AACygAAAABABn6p0Qr8ABKlSO/AB91NAAAAAEAGfrGpCvwAEqVI72ePupoEAAAATQZuxSahBbJlMCHf//qmWAACVgQAAAAxBn89FFSwv/wAAsoEAAAAQAZ/udEK/AASpUjvwAfdTQAAAABABn/BqQr8ABKlSO9nj7qaAAAAAHkGb9UmoQWyZTAhv//6nhAAGJ9YbmWWJkd92tLi7JwAAABBBnhNFFSwv/wADoJ6yCgcgAAAADwGeMnRCvwAEttGLgPzx4AAAABABnjRqQr8ABPrCPJcz5XaBAAAAEkGaOUmoQWyZTAhn//6eEAAEfAAAAAxBnldFFSwv/wAAsoEAAAAPAZ52dEK/AATqyjiOy7PHAAAADwGeeGpCvwAE6so3WerRMwAAABpBmnpJqEFsmUwIb//+p4QACWoAs22z7PnrQQAAABlBmptJ4QpSZTAhv/6nhAAOecZ/qt8x+LjgAAAAGUGavEnhDomUwId//qmWAAtvyDNAHpL7FzEAAAAjQZrASeEPJlMCHf/+qZYAEgKOiBZeMn2B+cX/fRj6LKX1OqEAAAAVQZ7+RRE8L/8AFZn14Dj6LGJ48ipIAAAAEAGfHXRCvwAbqTQifFmKQpgAAAAQAZ8fakK/AB0GYPJcz5LdgQAAABJBmwRJqEFomUwIb//+p4QAAScAAAAMQZ8iRREsL/8AALKBAAAAEAGfQXRCvwAtfQDn9gtybCAAAAAPAZ9DakK/ABy1Ddhnqz5bAAAAEkGbSEmoQWyZTAhn//6eEAAEfQAAAAxBn2ZFFSwv/wAAsoEAAAAQAZ+FdEK/AC19AOf2C3JsIQAAAA8Bn4dqQr8AHLUN2GerPlsAAAAZQZuJSahBbJlMCGf//p4QANfIY5/DsJ9abQAAABhBm6pJ4QpSZTAhn/6eEAFP4Mc/h2E+s9MAAAAYQZvLSeEOiZTAhn/+nhAB+ynHP4dhPrMvAAAAGEGb7EnhDyZTAhn//p4QAx8hjn8Own1liwAAABhBmg1J4Q8mUwIZ//6eEAMj6+7tObuLbF0AAAAYQZouSeEPJlMCGf/+nhAEsOEc/hzm+sn/AAAAGUGaT0nhDyZTAhv//qeEAmHRP9SJ9nxqpIEAAAAYQZpwSeEPJlMCG//+p4QLSwxqbefZ7jD/AAAAHEGalEnhDyZTAhv//qeEC7bMfWluRil0ehAoYsAAAAARQZ6yRRE8L/8B6pq34a7o7QkAAAAPAZ7RdEK/ApDQgMkqsPSAAAAAEAGe02pCvwKvNG80utZNakAAAAAZQZrXSahBaJlMCGf//p4QCad02MuTY8OJWQAAAA9BnvVFESwr/wGTI0DWUkAAAAANAZ8WakK/AZOxIt6ykwAAABlBmxhJqEFsmUwIZ//+nhAJJ3TYy5NkFYu5AAAAGUGbOUnhClJlMCGf/p4QCKeLNDrRy9vtpswAAAAaQZtaSeEOiZTAhv/+p4QCKel2Ubz4LbCsYsEAAAAaQZt7SeEPJlMCG//+p4QCC+l2Ubz4LbHsZ8AAAAAYQZucSeEPJlMCG//+p4QB8eiegrWZHOnhAAAAFkGboEnhDyZTAhv//qeEAQxAFm23GVEAAAAOQZ/eRRE8L/8Ao7KgNmAAAAAQAZ/9dEK/AVayjvwAfbpewAAAAA8Bn/9qQr8BVrKN1nqz0dMAAAAcQZvhSahBaJlMCHf//qmWAyGkJNnDUkDh/XY44AAAACVBmgVJ4QpSZTAhv/6nhAfvPE5lleMM/Apls7PgUKU+r47AwEnBAAAAE0GeI0U0TC//AbKRsbJKhTeB5d0AAAAQAZ5CdEK/AjLybytg4LaLgQAAAA8BnkRqQr8CSM70cNm0qRsAAAAcQZpHSahBaJlMFPDf/qeECev9aPTC9746f0I0IQAAABABnmZqQr8CdjweS5nsWOmBAAAAGEGaaEnhClJlMCHf/qmWBd2c60aP904BSQAAABtBmoxJ4Q6JlMCG//6nhAu2zH4fq8Dwbog4QcAAAAAQQZ6qRRE8L/8B6fvX5DRRQQAAABABnsl0Qr8Cr3HeVrxBSvSAAAAADwGey2pCvwGTsQPJgiykgAAAABJBmtBJqEFomUwIb//+p4QAAScAAAAMQZ7uRREsL/8AALKBAAAAEAGfDXRCvwGOzk4jsuyo6YEAAAAPAZ8PakK/AY7OTdZ6s9GVAAAAGUGbE0moQWyZTAhn//6eEAmndNjLk2PDiVgAAAAPQZ8xRRUsK/8BkyNA1lJBAAAADQGfUmpCvwGTsSLespIAAAAZQZtUSahBbJlMCGf//p4QCSd02MuTZBWLuAAAABhBm3VJ4QpSZTAhn/6eEAiniHnW6Bf9igkAAAAYQZuWSeEOiZTAhv/+p4QCKeOmP8PqlPIOAAAAGEGbt0nhDyZTAhv//qeEAgvjpj/D6qNiywAAABtBm9tJ4Q8mUwIb//6nhAHx6J/e1pbYh/OeCZkAAAAQQZ/5RRE8L/8A/s+6a1OFLgAAAA8Bnhh0Qr8BY4wgMkuUg4EAAAAQAZ4aakK/AWNtyKvAE/lLgAAAAB9Bmh5JqEFomUwIZ//+nhACxe6b7NJ2LOeZZZ8+y+WpAAAAE0GePEURLCv/AJLK6KrPNM16akEAAAAQAZ5dakK/AGIStiw1hkkS4AAAABlBml9JqEFsmUwIZ//+nhABLviH9shj6wltAAAAGUGaYEnhClJlMCG//qeEADJ+wf4Tgt0JccEAAAAbQZqBSeEOiZTAhv/+p4QAH99lYHD/LkFuhNlAAAAAGkGapEnhDyZTAhv//qeEAB+08LGuQ1MH+ThVAAAAEkGewkURPCv/ABpnaf9HJFX5gAAAAA4BnuNqQr8AGmdqua9X5wAAABJBmuhJqEFomUwIX//+jLAABI0AAAATQZ8GRREsL/8AHP3b6LFdxaPqgwAAABABnyV0Qr8AKP0A52xxpqJhAAAAEAGfJ2pCvwAnzchh9ASDlKgAAAAaQZspS6hCEFskRggoB/IB/YeAIV/+OEAAEXAAAAvAbW9vdgAAAGxtdmhkAAAAAAAAAAAAAAAAAAAD6AAAH5AAAQAAAQAAAAAAAAAAAAAAAAEAAAAAAAAAAAAAAAAAAAABAAAAAAAAAAAAAAAAAABAAAAAAAAAAAAAAAAAAAAAAAAAAAAAAAAAAAAAAAAAAgAACup0cmFrAAAAXHRraGQAAAADAAAAAAAAAAAAAAABAAAAAAAAH5AAAAAAAAAAAAAAAAAAAAAAAAEAAAAAAAAAAAAAAAAAAAABAAAAAAAAAAAAAAAAAABAAAAAARAAAAEQAAAAAAAkZWR0cwAAABxlbHN0AAAAAAAAAAEAAB+QAAAEAAABAAAAAApibWRpYQAAACBtZGhkAAAAAAAAAAAAAAAAAAAyAAABlABVxAAAAAAALWhkbHIAAAAAAAAAAHZpZGUAAAAAAAAAAAAAAABWaWRlb0hhbmRsZXIAAAAKDW1pbmYAAAAUdm1oZAAAAAEAAAAAAAAAAAAAACRkaW5mAAAAHGRyZWYAAAAAAAAAAQAAAAx1cmwgAAAAAQAACc1zdGJsAAAAlXN0c2QAAAAAAAAAAQAAAIVhdmMxAAAAAAAAAAEAAAAAAAAAAAAAAAAAAAAAARABEABIAAAASAAAAAAAAAABAAAAAAAAAAAAAAAAAAAAAAAAAAAAAAAAAAAAAAAAAAAAGP//AAAAL2F2Y0MB9AAN/+EAF2f0AA2RmygiEdCAAAADAIAAABkHihTLAQAFaOvjxEgAAAAYc3R0cwAAAAAAAAABAAAAygAAAgAAAAAUc3RzcwAAAAAAAAABAAAAAQAABZhjdHRzAAAAAAAAALEAAAABAAAEAAAAAAEAAAoAAAAAAQAABAAAAAABAAAAAAAAAAEAAAIAAAAAAQAABAAAAAABAAAKAAAAAAEAAAQAAAAAAQAAAAAAAAABAAACAAAAAAIAAAQAAAAAAQAABgAAAAABAAACAAAAAAEAAAQAAAAAAQAACgAAAAABAAAEAAAAAAEAAAAAAAAAAQAAAgAAAAABAAAEAAAAAAEAAAoAAAAAAQAABAAAAAABAAAAAAAAAAEAAAIAAAAAAQAABAAAAAABAAAKAAAAAAEAAAQAAAAAAQAAAAAAAAABAAACAAAAAAEAAAYAAAAAAQAAAgAAAAABAAAKAAAAAAEAAAQAAAAAAQAAAAAAAAABAAACAAAAAAEAAAoAAAAAAQAABAAAAAABAAAAAAAAAAEAAAIAAAAAAQAACgAAAAABAAAEAAAAAAEAAAAAAAAAAQAAAgAAAAACAAAEAAAAAAEAAAoAAAAAAQAABAAAAAABAAAAAAAAAAEAAAIAAAAAAQAACgAAAAABAAAEAAAAAAEAAAAAAAAAAQAAAgAAAAABAAAKAAAAAAEAAAQAAAAAAQAAAAAAAAABAAACAAAAAAEAAAoAAAAAAQAABAAAAAABAAAAAAAAAAEAAAIAAAAAAQAACgAAAAABAAAEAAAAAAEAAAAAAAAAAQAAAgAAAAABAAAKAAAAAAEAAAQAAAAAAQAAAAAAAAABAAACAAAAAAEAAAoAAAAAAQAABAAAAAABAAAAAAAAAAEAAAIAAAAAAQAACgAAAAABAAAEAAAAAAEAAAAAAAAAAQAAAgAAAAABAAAKAAAAAAEAAAQAAAAAAQAAAAAAAAABAAACAAAAAAEAAAoAAAAAAQAABAAAAAABAAAAAAAAAAEAAAIAAAAAAQAABAAAAAABAAAIAAAAAAIAAAIAAAAAAQAACgAAAAABAAAEAAAAAAEAAAAAAAAAAQAAAgAAAAABAAAKAAAAAAEAAAQAAAAAAQAAAAAAAAABAAACAAAAAAEAAAoAAAAAAQAABAAAAAABAAAAAAAAAAEAAAIAAAAAAQAABAAAAAABAAAKAAAAAAEAAAQAAAAAAQAAAAAAAAABAAACAAAAAAEAAAoAAAAAAQAABAAAAAABAAAAAAAAAAEAAAIAAAAAAQAACgAAAAABAAAEAAAAAAEAAAAAAAAAAQAAAgAAAAABAAAKAAAAAAEAAAQAAAAAAQAAAAAAAAABAAACAAAAAAEAAAoAAAAAAQAABAAAAAABAAAAAAAAAAEAAAIAAAAAAwAABAAAAAABAAAKAAAAAAEAAAQAAAAAAQAAAAAAAAABAAACAAAAAAEAAAoAAAAAAQAABAAAAAABAAAAAAAAAAEAAAIAAAAAAQAACgAAAAABAAAEAAAAAAEAAAAAAAAAAQAAAgAAAAAIAAAEAAAAAAEAAAoAAAAAAQAABAAAAAABAAAAAAAAAAEAAAIAAAAAAQAACAAAAAACAAACAAAAAAUAAAQAAAAAAQAACgAAAAABAAAEAAAAAAEAAAAAAAAAAQAAAgAAAAABAAAEAAAAAAEAAAoAAAAAAQAABAAAAAABAAAAAAAAAAEAAAIAAAAAAQAABgAAAAABAAACAAAAAAEAAAQAAAAAAQAACgAAAAABAAAEAAAAAAEAAAAAAAAAAQAAAgAAAAABAAAKAAAAAAEAAAQAAAAAAQAAAAAAAAABAAACAAAAAAEAAAgAAAAAAgAAAgAAAAAEAAAEAAAAAAEAAAoAAAAAAQAABAAAAAABAAAAAAAAAAEAAAIAAAAAAQAACAAAAAACAAACAAAAAAMAAAQAAAAAAQAACAAAAAACAAACAAAAAAEAAAoAAAAAAQAABAAAAAABAAAAAAAAAAEAAAIAAAAAAQAABAAAAAAcc3RzYwAAAAAAAAABAAAAAQAAAMoAAAABAAADPHN0c3oAAAAAAAAAAAAAAMoAAAVDAAAAHAAAACcAAAAUAAAAFAAAAB4AAAAgAAAAFAAAABQAAAATAAAAHwAAACAAAAAjAAAAEwAAAB0AAAAsAAAAFQAAABMAAAAUAAAAIAAAAB8AAAAUAAAAEwAAABQAAAAeAAAAHgAAABQAAAATAAAAEwAAAB0AAAAUAAAAFgAAABAAAAATAAAAEwAAABYAAAAQAAAAEwAAABMAAAAWAAAAEAAAABMAAAATAAAAHgAAAB8AAAAgAAAAFAAAABQAAAATAAAAFwAAABAAAAATAAAAEwAAABcAAAAQAAAAEwAAABMAAAAXAAAAEAAAABMAAAATAAAAFwAAABAAAAATAAAAEwAAABcAAAAQAAAAEwAAABMAAAAXAAAAEAAAABMAAAATAAAAFwAAABAAAAATAAAAEwAAACQAAAAUAAAAEwAAABMAAAAgAAAAFgAAABQAAAATAAAAHgAAABsAAAAUAAAAEgAAACAAAAAUAAAAFAAAABMAAAAXAAAAEAAAABQAAAAUAAAAFgAAABAAAAAUAAAAFAAAAB4AAAAWAAAAEAAAABMAAAAUAAAAFwAAABAAAAAUAAAAFAAAABcAAAAQAAAAFAAAABQAAAAiAAAAFAAAABMAAAAUAAAAFgAAABAAAAATAAAAEwAAAB4AAAAdAAAAHQAAACcAAAAZAAAAFAAAABQAAAAWAAAAEAAAABQAAAATAAAAFgAAABAAAAAUAAAAEwAAAB0AAAAcAAAAHAAAABwAAAAcAAAAHAAAAB0AAAAcAAAAIAAAABUAAAATAAAAFAAAAB0AAAATAAAAEQAAAB0AAAAdAAAAHgAAAB4AAAAcAAAAGgAAABIAAAAUAAAAEwAAACAAAAApAAAAFwAAABQAAAATAAAAIAAAABQAAAAcAAAAHwAAABQAAAAUAAAAEwAAABYAAAAQAAAAFAAAABMAAAAdAAAAEwAAABEAAAAdAAAAHAAAABwAAAAcAAAAHwAAABQAAAATAAAAFAAAACMAAAAXAAAAFAAAAB0AAAAdAAAAHwAAAB4AAAAWAAAAEgAAABYAAAAXAAAAFAAAABQAAAAeAAAAFHN0Y28AAAAAAAAAAQAAADAAAABidWR0YQAAAFptZXRhAAAAAAAAACFoZGxyAAAAAAAAAABtZGlyYXBwbAAAAAAAAAAAAAAAAC1pbHN0AAAAJal0b28AAAAdZGF0YQAAAAEAAAAATGF2ZjU3LjgzLjEwMA==\" type=\"video/mp4\" />\n",
       "             </video>"
      ],
      "text/plain": [
       "<IPython.core.display.HTML object>"
      ]
     },
     "execution_count": 97,
     "metadata": {
      "tags": []
     },
     "output_type": "execute_result"
    }
   ],
   "source": [
    "env = Environment(grid_size=size, max_time=T, temperature=0.3)\n",
    "agent = DQN_FC(size, lr=.01, epsilon = 0.1, memory_size=2000, batch_size = 32)\n",
    "train(agent, env, epochs_train, prefix='fc_train')\n",
    "HTML(display_videos('fc_train30.mp4'))"
   ]
  },
  {
   "cell_type": "markdown",
   "metadata": {
    "colab_type": "text",
    "id": "SYqzB4HQjQH4"
   },
   "source": [
    "***\n",
    "***\n",
    "### Convolutional Network\n",
    "\n",
    "__Question 8__ Implement the DQN training algorithm using a CNN (for example, 2 convolutional layers and one final fully connected layer)."
   ]
  },
  {
   "cell_type": "code",
   "execution_count": 0,
   "metadata": {
    "colab": {},
    "colab_type": "code",
    "id": "jqWIo9g_jQH5"
   },
   "outputs": [],
   "source": [
    "class DQN_CNN(DQN):\n",
    "    def __init__(self, *args,lr=0.1,**kwargs):\n",
    "        super(DQN_CNN, self).__init__(*args,**kwargs)\n",
    "        \n",
    "        model = Sequential()\n",
    "        model.add(Conv2D(64, (2,2), activation='relu', input_shape=( 5, 5, self.n_state)))\n",
    "        model.add(MaxPooling2D(pool_size=2))\n",
    "        model.add(Conv2D(32, (2,2), activation='relu'))\n",
    "        model.add(Flatten())\n",
    "        model.add(Dropout(0.2))\n",
    "        model.add(Dense(4, activation='linear'))\n",
    "        model.summary()\n",
    "        \n",
    "        model.compile(Adam(lr=lr), \"mse\")\n",
    "        self.model = model"
   ]
  },
  {
   "cell_type": "code",
   "execution_count": 99,
   "metadata": {
    "colab": {
     "base_uri": "https://localhost:8080/",
     "height": 1000
    },
    "colab_type": "code",
    "executionInfo": {
     "elapsed": 597873,
     "status": "ok",
     "timestamp": 1583081206939,
     "user": {
      "displayName": "Adrian Jarret",
      "photoUrl": "",
      "userId": "03614014099574646852"
     },
     "user_tz": -60
    },
    "id": "Nhaae0FwjQH-",
    "outputId": "a99ee038-3b6c-4d7c-cd7b-29e9b6184538"
   },
   "outputs": [
    {
     "name": "stdout",
     "output_type": "stream",
     "text": [
      "Model: \"sequential_32\"\n",
      "_________________________________________________________________\n",
      "Layer (type)                 Output Shape              Param #   \n",
      "=================================================================\n",
      "conv2d_25 (Conv2D)           (None, 4, 4, 64)          576       \n",
      "_________________________________________________________________\n",
      "max_pooling2d_10 (MaxPooling (None, 2, 2, 64)          0         \n",
      "_________________________________________________________________\n",
      "conv2d_26 (Conv2D)           (None, 1, 1, 32)          8224      \n",
      "_________________________________________________________________\n",
      "flatten_31 (Flatten)         (None, 32)                0         \n",
      "_________________________________________________________________\n",
      "dropout_14 (Dropout)         (None, 32)                0         \n",
      "_________________________________________________________________\n",
      "dense_51 (Dense)             (None, 4)                 132       \n",
      "=================================================================\n",
      "Total params: 8,932\n",
      "Trainable params: 8,932\n",
      "Non-trainable params: 0\n",
      "_________________________________________________________________\n",
      "Epoch 001/031 | Loss 0.0037 | Win/lose count 2.0/10.0 (-8.0)\n",
      "Epoch 002/031 | Loss 0.0065 | Win/lose count 2.0/4.0 (-2.0)\n",
      "Epoch 003/031 | Loss 0.0052 | Win/lose count 5.0/8.0 (-3.0)\n",
      "Epoch 004/031 | Loss 0.0058 | Win/lose count 5.0/3.0 (2.0)\n",
      "Epoch 005/031 | Loss 0.0014 | Win/lose count 6.5/13.0 (-6.5)\n",
      "Epoch 006/031 | Loss 0.0061 | Win/lose count 2.5/4.0 (-1.5)\n",
      "Epoch 007/031 | Loss 0.0047 | Win/lose count 3.0/2.0 (1.0)\n",
      "Epoch 008/031 | Loss 0.0045 | Win/lose count 3.5/1.0 (2.5)\n",
      "Epoch 009/031 | Loss 0.0044 | Win/lose count 2.0/1.0 (1.0)\n",
      "Epoch 010/031 | Loss 0.0035 | Win/lose count 6.5/2.0 (4.5)\n",
      "Epoch 011/031 | Loss 0.0018 | Win/lose count 9.0/2.0 (7.0)\n",
      "Epoch 012/031 | Loss 0.0174 | Win/lose count 5.0/6.0 (-1.0)\n",
      "Epoch 013/031 | Loss 0.0075 | Win/lose count 6.0/1.0 (5.0)\n",
      "Epoch 014/031 | Loss 0.0093 | Win/lose count 9.5/1.0 (8.5)\n",
      "Epoch 015/031 | Loss 0.0078 | Win/lose count 9.5/4.0 (5.5)\n",
      "Epoch 016/031 | Loss 0.0040 | Win/lose count 16.0/5.0 (11.0)\n",
      "Epoch 017/031 | Loss 0.0228 | Win/lose count 2.5/4.0 (-1.5)\n",
      "Epoch 018/031 | Loss 0.0209 | Win/lose count 21.5/9.0 (12.5)\n",
      "Epoch 019/031 | Loss 0.0284 | Win/lose count 18.0/5.0 (13.0)\n",
      "Epoch 020/031 | Loss 0.0164 | Win/lose count 21.0/6.0 (15.0)\n",
      "Epoch 021/031 | Loss 0.0172 | Win/lose count 19.0/4.0 (15.0)\n",
      "Epoch 022/031 | Loss 0.0171 | Win/lose count 13.0/6.0 (7.0)\n",
      "Epoch 023/031 | Loss 0.0110 | Win/lose count 14.5/4.0 (10.5)\n",
      "Epoch 024/031 | Loss 0.0268 | Win/lose count 14.5/7.0 (7.5)\n",
      "Epoch 025/031 | Loss 0.0130 | Win/lose count 4.5/3.0 (1.5)\n",
      "Epoch 026/031 | Loss 0.0049 | Win/lose count 20.5/4.0 (16.5)\n",
      "Epoch 027/031 | Loss 0.0132 | Win/lose count 20.5/6.0 (14.5)\n",
      "Epoch 028/031 | Loss 0.0134 | Win/lose count 15.5/3.0 (12.5)\n",
      "Epoch 029/031 | Loss 0.0110 | Win/lose count 13.0/5.0 (8.0)\n",
      "Epoch 030/031 | Loss 0.0129 | Win/lose count 19.5/9.0 (10.5)\n",
      "Epoch 031/031 | Loss 0.0406 | Win/lose count 23.0/9.0 (14.0)\n"
     ]
    },
    {
     "data": {
      "text/html": [
       "<video alt=\"test\" controls>\n",
       "                <source src=\"data:video/mp4;base64,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\" type=\"video/mp4\" />\n",
       "             </video>"
      ],
      "text/plain": [
       "<IPython.core.display.HTML object>"
      ]
     },
     "execution_count": 99,
     "metadata": {
      "tags": []
     },
     "output_type": "execute_result"
    }
   ],
   "source": [
    "env = Environment(grid_size=size, max_time=T, temperature=0.3)\n",
    "agent = DQN_CNN(size, lr=.001, epsilon = 0.1, memory_size=2000, batch_size = 32)\n",
    "train(agent,env,epochs_train,prefix='cnn_train')\n",
    "HTML(display_videos('cnn_train30.mp4'))"
   ]
  },
  {
   "cell_type": "markdown",
   "metadata": {
    "colab_type": "text",
    "id": "qxwm4p6FjQIC"
   },
   "source": [
    "We tries a convolutional network, we added some dropout and some pooling layer. We also reduced even more the learning rate, as there are way more parameters to train (roughly 5 times more). The algorithm performs quite good too. \n",
    "\n",
    "***\n",
    "***\n",
    "__Question 9__ Test both algorithms and compare their performances. Which issue(s) do you observe? Observe also different behaviors by changing the temperature."
   ]
  },
  {
   "cell_type": "code",
   "execution_count": 101,
   "metadata": {
    "colab": {
     "base_uri": "https://localhost:8080/",
     "height": 1000
    },
    "colab_type": "code",
    "executionInfo": {
     "elapsed": 395824,
     "status": "ok",
     "timestamp": 1583081946511,
     "user": {
      "displayName": "Adrian Jarret",
      "photoUrl": "",
      "userId": "03614014099574646852"
     },
     "user_tz": -60
    },
    "id": "zGPcxQxQjQIE",
    "outputId": "7cdb7ba7-dad9-4e38-b47c-0059466e3c8a"
   },
   "outputs": [
    {
     "name": "stdout",
     "output_type": "stream",
     "text": [
      "Model: \"sequential_35\"\n",
      "_________________________________________________________________\n",
      "Layer (type)                 Output Shape              Param #   \n",
      "=================================================================\n",
      "conv2d_29 (Conv2D)           (None, 4, 4, 64)          576       \n",
      "_________________________________________________________________\n",
      "max_pooling2d_12 (MaxPooling (None, 2, 2, 64)          0         \n",
      "_________________________________________________________________\n",
      "conv2d_30 (Conv2D)           (None, 1, 1, 32)          8224      \n",
      "_________________________________________________________________\n",
      "flatten_34 (Flatten)         (None, 32)                0         \n",
      "_________________________________________________________________\n",
      "dropout_17 (Dropout)         (None, 32)                0         \n",
      "_________________________________________________________________\n",
      "dense_55 (Dense)             (None, 4)                 132       \n",
      "=================================================================\n",
      "Total params: 8,932\n",
      "Trainable params: 8,932\n",
      "Non-trainable params: 0\n",
      "_________________________________________________________________\n",
      "Model: \"sequential_36\"\n",
      "_________________________________________________________________\n",
      "Layer (type)                 Output Shape              Param #   \n",
      "=================================================================\n",
      "flatten_35 (Flatten)         (None, 50)                0         \n",
      "_________________________________________________________________\n",
      "dense_56 (Dense)             (None, 32)                1632      \n",
      "_________________________________________________________________\n",
      "dropout_18 (Dropout)         (None, 32)                0         \n",
      "_________________________________________________________________\n",
      "dense_57 (Dense)             (None, 4)                 132       \n",
      "=================================================================\n",
      "Total params: 1,764\n",
      "Trainable params: 1,764\n",
      "Non-trainable params: 0\n",
      "_________________________________________________________________\n",
      "Test of the FC\n",
      "Epoch 001/011\n",
      "Win/lose count 4.5/6.0. Average score (-1.5)\n",
      "\n",
      "Epoch 002/011\n",
      "Win/lose count 3.0/6.0. Average score (-2.25)\n",
      "\n",
      "Epoch 003/011\n",
      "Win/lose count 6.5/6.0. Average score (-1.3333333333333333)\n",
      "\n",
      "Epoch 004/011\n",
      "Win/lose count 3.0/10.0. Average score (-2.75)\n",
      "\n",
      "Epoch 005/011\n",
      "Win/lose count 8.0/9.0. Average score (-2.4)\n",
      "\n",
      "Epoch 006/011\n",
      "Win/lose count 5.0/4.0. Average score (-1.8333333333333333)\n",
      "\n",
      "Epoch 007/011\n",
      "Win/lose count 5.5/7.0. Average score (-1.7857142857142858)\n",
      "\n",
      "Epoch 008/011\n",
      "Win/lose count 7.0/9.0. Average score (-1.8125)\n",
      "\n",
      "Epoch 009/011\n",
      "Win/lose count 4.0/7.0. Average score (-1.9444444444444444)\n",
      "\n",
      "Epoch 010/011\n",
      "Win/lose count 5.0/7.0. Average score (-1.95)\n",
      "\n",
      "Epoch 011/011\n",
      "Win/lose count 5.0/10.0. Average score (-2.227272727272727)\n",
      "\n",
      "Final score: -2.227272727272727\n",
      "Test of the CNN\n",
      "Epoch 001/011\n",
      "Win/lose count 8.0/0. Average score (8.0)\n",
      "\n",
      "Epoch 002/011\n",
      "Win/lose count 10.0/5.0. Average score (6.5)\n",
      "\n",
      "Epoch 003/011\n",
      "Win/lose count 9.5/1.0. Average score (7.166666666666667)\n",
      "\n",
      "Epoch 004/011\n",
      "Win/lose count 9.5/2.0. Average score (7.25)\n",
      "\n",
      "Epoch 005/011\n",
      "Win/lose count 7.5/1.0. Average score (7.1)\n",
      "\n",
      "Epoch 006/011\n",
      "Win/lose count 4.5/0. Average score (6.666666666666667)\n",
      "\n",
      "Epoch 007/011\n",
      "Win/lose count 7.0/7.0. Average score (5.714285714285714)\n",
      "\n",
      "Epoch 008/011\n",
      "Win/lose count 8.0/2.0. Average score (5.75)\n",
      "\n",
      "Epoch 009/011\n",
      "Win/lose count 8.0/6.0. Average score (5.333333333333333)\n",
      "\n",
      "Epoch 010/011\n",
      "Win/lose count 9.5/4.0. Average score (5.35)\n",
      "\n",
      "Epoch 011/011\n",
      "Win/lose count 14.5/8.0. Average score (5.454545454545454)\n",
      "\n",
      "Final score: 5.454545454545454\n"
     ]
    }
   ],
   "source": [
    "env = Environment(grid_size=size, max_time=T,temperature=0.3)\n",
    "agent_cnn = DQN_CNN(size, lr=.1, epsilon = 0.1, memory_size=2000, batch_size = 32)\n",
    "agent_cnn.load(name_weights='cnn_trainmodel.h5',name_model='cnn_trainmodel.json')\n",
    "\n",
    "agent_fc = DQN_FC(size, lr=.1, epsilon = 0.1, memory_size=2000, batch_size = 32)\n",
    "agent_cnn.load(name_weights='fc_trainmodel.h5',name_model='fc_trainmodel.json')\n",
    "\n",
    "print('Test of the FC')\n",
    "test(agent_fc,env,epochs_test,prefix='fc_test')\n",
    "print('Test of the CNN')\n",
    "test(agent_cnn,env,epochs_test,prefix='cnn_test')\n"
   ]
  },
  {
   "cell_type": "code",
   "execution_count": 103,
   "metadata": {
    "colab": {
     "base_uri": "https://localhost:8080/",
     "height": 293
    },
    "colab_type": "code",
    "executionInfo": {
     "elapsed": 793,
     "status": "ok",
     "timestamp": 1583082003457,
     "user": {
      "displayName": "Adrian Jarret",
      "photoUrl": "",
      "userId": "03614014099574646852"
     },
     "user_tz": -60
    },
    "id": "lK_IT3IFjQIM",
    "outputId": "c5808a6d-09fd-4342-9873-4435ac6c5b7b"
   },
   "outputs": [
    {
     "data": {
      "text/html": [
       "<video alt=\"test\" controls>\n",
       "                <source src=\"data:video/mp4;base64,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\" type=\"video/mp4\" />\n",
       "             </video>"
      ],
      "text/plain": [
       "<IPython.core.display.HTML object>"
      ]
     },
     "execution_count": 103,
     "metadata": {
      "tags": []
     },
     "output_type": "execute_result"
    }
   ],
   "source": [
    "HTML(display_videos('fc_test10.mp4'))"
   ]
  },
  {
   "cell_type": "code",
   "execution_count": 104,
   "metadata": {
    "colab": {
     "base_uri": "https://localhost:8080/",
     "height": 293
    },
    "colab_type": "code",
    "executionInfo": {
     "elapsed": 798,
     "status": "ok",
     "timestamp": 1583082008351,
     "user": {
      "displayName": "Adrian Jarret",
      "photoUrl": "",
      "userId": "03614014099574646852"
     },
     "user_tz": -60
    },
    "id": "2y5HNOkmjQII",
    "outputId": "5fe48531-0173-4e07-906e-c88903b55443"
   },
   "outputs": [
    {
     "data": {
      "text/html": [
       "<video alt=\"test\" controls>\n",
       "                <source src=\"data:video/mp4;base64,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\" type=\"video/mp4\" />\n",
       "             </video>"
      ],
      "text/plain": [
       "<IPython.core.display.HTML object>"
      ]
     },
     "execution_count": 104,
     "metadata": {
      "tags": []
     },
     "output_type": "execute_result"
    }
   ],
   "source": [
    "HTML(display_videos('cnn_test10.mp4'))"
   ]
  },
  {
   "cell_type": "code",
   "execution_count": 105,
   "metadata": {
    "colab": {
     "base_uri": "https://localhost:8080/",
     "height": 1000
    },
    "colab_type": "code",
    "executionInfo": {
     "elapsed": 403477,
     "status": "ok",
     "timestamp": 1583082463890,
     "user": {
      "displayName": "Adrian Jarret",
      "photoUrl": "",
      "userId": "03614014099574646852"
     },
     "user_tz": -60
    },
    "id": "LQ8sqLfj1H17",
    "outputId": "3b4a3fb9-54e0-45ba-e516-bb8d2a06be41"
   },
   "outputs": [
    {
     "name": "stdout",
     "output_type": "stream",
     "text": [
      "Model: \"sequential_37\"\n",
      "_________________________________________________________________\n",
      "Layer (type)                 Output Shape              Param #   \n",
      "=================================================================\n",
      "conv2d_31 (Conv2D)           (None, 4, 4, 64)          576       \n",
      "_________________________________________________________________\n",
      "max_pooling2d_13 (MaxPooling (None, 2, 2, 64)          0         \n",
      "_________________________________________________________________\n",
      "conv2d_32 (Conv2D)           (None, 1, 1, 32)          8224      \n",
      "_________________________________________________________________\n",
      "flatten_36 (Flatten)         (None, 32)                0         \n",
      "_________________________________________________________________\n",
      "dropout_19 (Dropout)         (None, 32)                0         \n",
      "_________________________________________________________________\n",
      "dense_58 (Dense)             (None, 4)                 132       \n",
      "=================================================================\n",
      "Total params: 8,932\n",
      "Trainable params: 8,932\n",
      "Non-trainable params: 0\n",
      "_________________________________________________________________\n",
      "Model: \"sequential_38\"\n",
      "_________________________________________________________________\n",
      "Layer (type)                 Output Shape              Param #   \n",
      "=================================================================\n",
      "flatten_37 (Flatten)         (None, 50)                0         \n",
      "_________________________________________________________________\n",
      "dense_59 (Dense)             (None, 32)                1632      \n",
      "_________________________________________________________________\n",
      "dropout_20 (Dropout)         (None, 32)                0         \n",
      "_________________________________________________________________\n",
      "dense_60 (Dense)             (None, 4)                 132       \n",
      "=================================================================\n",
      "Total params: 1,764\n",
      "Trainable params: 1,764\n",
      "Non-trainable params: 0\n",
      "_________________________________________________________________\n",
      "Test of the FC\n",
      "Epoch 001/011\n",
      "Win/lose count 4.0/7.0. Average score (-3.0)\n",
      "\n",
      "Epoch 002/011\n",
      "Win/lose count 5.0/2.0. Average score (0.0)\n",
      "\n",
      "Epoch 003/011\n",
      "Win/lose count 5.5/12.0. Average score (-2.1666666666666665)\n",
      "\n",
      "Epoch 004/011\n",
      "Win/lose count 5.5/1.0. Average score (-0.5)\n",
      "\n",
      "Epoch 005/011\n",
      "Win/lose count 9.0/7.0. Average score (0.0)\n",
      "\n",
      "Epoch 006/011\n",
      "Win/lose count 5.5/1.0. Average score (0.75)\n",
      "\n",
      "Epoch 007/011\n",
      "Win/lose count 11.0/4.0. Average score (1.6428571428571428)\n",
      "\n",
      "Epoch 008/011\n",
      "Win/lose count 7.5/11.0. Average score (1.0)\n",
      "\n",
      "Epoch 009/011\n",
      "Win/lose count 5.5/9.0. Average score (0.5)\n",
      "\n",
      "Epoch 010/011\n",
      "Win/lose count 8.0/8.0. Average score (0.45)\n",
      "\n",
      "Epoch 011/011\n",
      "Win/lose count 12.5/8.0. Average score (0.8181818181818182)\n",
      "\n",
      "Final score: 0.8181818181818182\n",
      "Test of the CNN\n",
      "Epoch 001/011\n",
      "Win/lose count 3.5/3.0. Average score (0.5)\n",
      "\n",
      "Epoch 002/011\n",
      "Win/lose count 10.5/5.0. Average score (3.0)\n",
      "\n",
      "Epoch 003/011\n",
      "Win/lose count 15.0/0. Average score (7.0)\n",
      "\n",
      "Epoch 004/011\n",
      "Win/lose count 12.0/5.0. Average score (7.0)\n",
      "\n",
      "Epoch 005/011\n",
      "Win/lose count 12.0/0. Average score (8.0)\n",
      "\n",
      "Epoch 006/011\n",
      "Win/lose count 12.0/3.0. Average score (8.166666666666666)\n",
      "\n",
      "Epoch 007/011\n",
      "Win/lose count 28.5/5.0. Average score (10.357142857142858)\n",
      "\n",
      "Epoch 008/011\n",
      "Win/lose count 24.0/4.0. Average score (11.5625)\n",
      "\n",
      "Epoch 009/011\n",
      "Win/lose count 22.0/0. Average score (12.722222222222221)\n",
      "\n",
      "Epoch 010/011\n",
      "Win/lose count 8.5/0. Average score (12.3)\n",
      "\n",
      "Epoch 011/011\n",
      "Win/lose count 23.0/2.0. Average score (13.090909090909092)\n",
      "\n",
      "Final score: 13.090909090909092\n"
     ]
    }
   ],
   "source": [
    "env = Environment(grid_size=size, max_time=T,temperature=0.5)\n",
    "agent_cnn = DQN_CNN(size, lr=.1, epsilon = 0.1, memory_size=2000, batch_size = 32)\n",
    "agent_cnn.load(name_weights='cnn_trainmodel.h5',name_model='cnn_trainmodel.json')\n",
    "\n",
    "agent_fc = DQN_FC(size, lr=.1, epsilon = 0.1, memory_size=2000, batch_size = 32)\n",
    "agent_cnn.load(name_weights='fc_trainmodel.h5',name_model='fc_trainmodel.json')\n",
    "\n",
    "print('Test of the FC')\n",
    "test(agent_fc,env,epochs_test,prefix='fc_t05_test')\n",
    "print('Test of the CNN')\n",
    "test(agent_cnn,env,epochs_test,prefix='cnn_t05_test')\n"
   ]
  },
  {
   "cell_type": "code",
   "execution_count": 109,
   "metadata": {
    "colab": {
     "base_uri": "https://localhost:8080/",
     "height": 293
    },
    "colab_type": "code",
    "executionInfo": {
     "elapsed": 716,
     "status": "ok",
     "timestamp": 1583082992299,
     "user": {
      "displayName": "Adrian Jarret",
      "photoUrl": "",
      "userId": "03614014099574646852"
     },
     "user_tz": -60
    },
    "id": "Gm0_rlynC8D_",
    "outputId": "bad7bf8f-f1c3-4ebc-aec1-7c4c505b3f55"
   },
   "outputs": [
    {
     "data": {
      "text/html": [
       "<video alt=\"test\" controls>\n",
       "                <source src=\"data:video/mp4;base64,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\" type=\"video/mp4\" />\n",
       "             </video>"
      ],
      "text/plain": [
       "<IPython.core.display.HTML object>"
      ]
     },
     "execution_count": 109,
     "metadata": {
      "tags": []
     },
     "output_type": "execute_result"
    }
   ],
   "source": [
    "HTML(display_videos('fc_t05_test10.mp4'))"
   ]
  },
  {
   "cell_type": "code",
   "execution_count": 110,
   "metadata": {
    "colab": {
     "base_uri": "https://localhost:8080/",
     "height": 293
    },
    "colab_type": "code",
    "executionInfo": {
     "elapsed": 401,
     "status": "ok",
     "timestamp": 1583082992560,
     "user": {
      "displayName": "Adrian Jarret",
      "photoUrl": "",
      "userId": "03614014099574646852"
     },
     "user_tz": -60
    },
    "id": "F9KrM_MTC8v8",
    "outputId": "510d1370-a803-403b-e046-98818cdeddd3"
   },
   "outputs": [
    {
     "data": {
      "text/html": [
       "<video alt=\"test\" controls>\n",
       "                <source src=\"data:video/mp4;base64,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\" type=\"video/mp4\" />\n",
       "             </video>"
      ],
      "text/plain": [
       "<IPython.core.display.HTML object>"
      ]
     },
     "execution_count": 110,
     "metadata": {
      "tags": []
     },
     "output_type": "execute_result"
    }
   ],
   "source": [
    "HTML(display_videos('cnn_t05_test10.mp4'))"
   ]
  },
  {
   "cell_type": "code",
   "execution_count": 106,
   "metadata": {
    "colab": {
     "base_uri": "https://localhost:8080/",
     "height": 1000
    },
    "colab_type": "code",
    "executionInfo": {
     "elapsed": 416634,
     "status": "ok",
     "timestamp": 1583082880568,
     "user": {
      "displayName": "Adrian Jarret",
      "photoUrl": "",
      "userId": "03614014099574646852"
     },
     "user_tz": -60
    },
    "id": "Rmnbn1P21JPT",
    "outputId": "fd734713-ab5b-4c73-e404-20c82f0ffaf3"
   },
   "outputs": [
    {
     "name": "stdout",
     "output_type": "stream",
     "text": [
      "Model: \"sequential_39\"\n",
      "_________________________________________________________________\n",
      "Layer (type)                 Output Shape              Param #   \n",
      "=================================================================\n",
      "conv2d_33 (Conv2D)           (None, 4, 4, 64)          576       \n",
      "_________________________________________________________________\n",
      "max_pooling2d_14 (MaxPooling (None, 2, 2, 64)          0         \n",
      "_________________________________________________________________\n",
      "conv2d_34 (Conv2D)           (None, 1, 1, 32)          8224      \n",
      "_________________________________________________________________\n",
      "flatten_38 (Flatten)         (None, 32)                0         \n",
      "_________________________________________________________________\n",
      "dropout_21 (Dropout)         (None, 32)                0         \n",
      "_________________________________________________________________\n",
      "dense_61 (Dense)             (None, 4)                 132       \n",
      "=================================================================\n",
      "Total params: 8,932\n",
      "Trainable params: 8,932\n",
      "Non-trainable params: 0\n",
      "_________________________________________________________________\n",
      "Model: \"sequential_40\"\n",
      "_________________________________________________________________\n",
      "Layer (type)                 Output Shape              Param #   \n",
      "=================================================================\n",
      "flatten_39 (Flatten)         (None, 50)                0         \n",
      "_________________________________________________________________\n",
      "dense_62 (Dense)             (None, 32)                1632      \n",
      "_________________________________________________________________\n",
      "dropout_22 (Dropout)         (None, 32)                0         \n",
      "_________________________________________________________________\n",
      "dense_63 (Dense)             (None, 4)                 132       \n",
      "=================================================================\n",
      "Total params: 1,764\n",
      "Trainable params: 1,764\n",
      "Non-trainable params: 0\n",
      "_________________________________________________________________\n",
      "Test of the FC\n",
      "Epoch 001/011\n",
      "Win/lose count 8.5/0. Average score (8.5)\n",
      "\n",
      "Epoch 002/011\n",
      "Win/lose count 12.0/11.0. Average score (4.75)\n",
      "\n",
      "Epoch 003/011\n",
      "Win/lose count 10.0/5.0. Average score (4.833333333333333)\n",
      "\n",
      "Epoch 004/011\n",
      "Win/lose count 14.5/6.0. Average score (5.75)\n",
      "\n",
      "Epoch 005/011\n",
      "Win/lose count 11.5/9.0. Average score (5.1)\n",
      "\n",
      "Epoch 006/011\n",
      "Win/lose count 10.5/3.0. Average score (5.5)\n",
      "\n",
      "Epoch 007/011\n",
      "Win/lose count 10.5/7.0. Average score (5.214285714285714)\n",
      "\n",
      "Epoch 008/011\n",
      "Win/lose count 18.0/17.0. Average score (4.6875)\n",
      "\n",
      "Epoch 009/011\n",
      "Win/lose count 7.5/11.0. Average score (3.7777777777777777)\n",
      "\n",
      "Epoch 010/011\n",
      "Win/lose count 9.0/10.0. Average score (3.3)\n",
      "\n",
      "Epoch 011/011\n",
      "Win/lose count 10.5/1.0. Average score (3.8636363636363638)\n",
      "\n",
      "Final score: 3.8636363636363638\n",
      "Test of the CNN\n",
      "Epoch 001/011\n",
      "Win/lose count 17.0/4.0. Average score (13.0)\n",
      "\n",
      "Epoch 002/011\n",
      "Win/lose count 33.5/4.0. Average score (21.25)\n",
      "\n",
      "Epoch 003/011\n",
      "Win/lose count 9.0/1.0. Average score (16.833333333333332)\n",
      "\n",
      "Epoch 004/011\n",
      "Win/lose count 36.5/2.0. Average score (21.25)\n",
      "\n",
      "Epoch 005/011\n",
      "Win/lose count 34.5/2.0. Average score (23.5)\n",
      "\n",
      "Epoch 006/011\n",
      "Win/lose count 13.0/2.0. Average score (21.416666666666668)\n",
      "\n",
      "Epoch 007/011\n",
      "Win/lose count 14.0/1.0. Average score (20.214285714285715)\n",
      "\n",
      "Epoch 008/011\n",
      "Win/lose count 32.5/2.0. Average score (21.5)\n",
      "\n",
      "Epoch 009/011\n",
      "Win/lose count 34.0/3.0. Average score (22.555555555555557)\n",
      "\n",
      "Epoch 010/011\n",
      "Win/lose count 28.5/1.0. Average score (23.05)\n",
      "\n",
      "Epoch 011/011\n",
      "Win/lose count 30.5/1.0. Average score (23.636363636363637)\n",
      "\n",
      "Final score: 23.636363636363637\n"
     ]
    }
   ],
   "source": [
    "env = Environment(grid_size=size, max_time=T,temperature=0.7)\n",
    "agent_cnn = DQN_CNN(size, lr=.1, epsilon = 0.1, memory_size=2000, batch_size = 32)\n",
    "agent_cnn.load(name_weights='cnn_trainmodel.h5',name_model='cnn_trainmodel.json')\n",
    "\n",
    "agent_fc = DQN_FC(size, lr=.1, epsilon = 0.1, memory_size=2000, batch_size = 32)\n",
    "agent_cnn.load(name_weights='fc_trainmodel.h5',name_model='fc_trainmodel.json')\n",
    "\n",
    "print('Test of the FC')\n",
    "test(agent_fc,env,epochs_test,prefix='fc_t07_test')\n",
    "print('Test of the CNN')\n",
    "test(agent_cnn,env,epochs_test,prefix='cnn_t07_test')\n"
   ]
  },
  {
   "cell_type": "code",
   "execution_count": 107,
   "metadata": {
    "colab": {
     "base_uri": "https://localhost:8080/",
     "height": 293
    },
    "colab_type": "code",
    "executionInfo": {
     "elapsed": 1459,
     "status": "ok",
     "timestamp": 1583082882042,
     "user": {
      "displayName": "Adrian Jarret",
      "photoUrl": "",
      "userId": "03614014099574646852"
     },
     "user_tz": -60
    },
    "id": "JS-oA0QHDCBM",
    "outputId": "ee1e88e7-ac8e-4929-8a85-c0b3a2f819a5"
   },
   "outputs": [
    {
     "data": {
      "text/html": [
       "<video alt=\"test\" controls>\n",
       "                <source src=\"data:video/mp4;base64,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\" type=\"video/mp4\" />\n",
       "             </video>"
      ],
      "text/plain": [
       "<IPython.core.display.HTML object>"
      ]
     },
     "execution_count": 107,
     "metadata": {
      "tags": []
     },
     "output_type": "execute_result"
    }
   ],
   "source": [
    "HTML(display_videos('fc_t07_test10.mp4'))"
   ]
  },
  {
   "cell_type": "code",
   "execution_count": 108,
   "metadata": {
    "colab": {
     "base_uri": "https://localhost:8080/",
     "height": 293
    },
    "colab_type": "code",
    "executionInfo": {
     "elapsed": 3040,
     "status": "ok",
     "timestamp": 1583082883629,
     "user": {
      "displayName": "Adrian Jarret",
      "photoUrl": "",
      "userId": "03614014099574646852"
     },
     "user_tz": -60
    },
    "id": "F-DZG8BIDCsA",
    "outputId": "59091a61-3696-46e9-ad78-7180e04c924a"
   },
   "outputs": [
    {
     "data": {
      "text/html": [
       "<video alt=\"test\" controls>\n",
       "                <source src=\"data:video/mp4;base64,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\" type=\"video/mp4\" />\n",
       "             </video>"
      ],
      "text/plain": [
       "<IPython.core.display.HTML object>"
      ]
     },
     "execution_count": 108,
     "metadata": {
      "tags": []
     },
     "output_type": "execute_result"
    }
   ],
   "source": [
    "HTML(display_videos('cnn_t07_test10.mp4'))"
   ]
  },
  {
   "cell_type": "markdown",
   "metadata": {
    "colab_type": "text",
    "id": "7wWEmY1FjQIP"
   },
   "source": [
    "We notice that the agent does not explore much of the environment. When it is in an empty neighbourhood (because it has visited everything), it tends to stay in such a restricted area, doing some loops. However, when we augment the temperature, which corresponds to a denser environment, the rat tends to explore a bit more.\n",
    "\n",
    "We could think to a strategy that encourages exploration with a malus for going through places that have already been explored."
   ]
  },
  {
   "cell_type": "markdown",
   "metadata": {
    "colab_type": "text",
    "id": "OuY95TvujQIQ"
   },
   "source": [
    "***\n",
    "\n",
    "### Exploration\n",
    "\n",
    "The algorithm tends to not explore the map which can be an issue. We propose two ideas in order to encourage exploration:\n",
    "1. Incorporating a decreasing $\\epsilon$-greedy exploration. You can use the method ```set_epsilon```\n",
    "2. Append via the environment a new state that describes if a cell has been visited or not\n",
    "\n",
    "***\n",
    "__Question 10__ Design a new ```train_explore``` function and environment class ```EnvironmentExploring``` to tackle the issue of exploration.\n",
    "\n"
   ]
  },
  {
   "cell_type": "code",
   "execution_count": 0,
   "metadata": {
    "colab": {},
    "colab_type": "code",
    "id": "aHHYwg3JjQIR"
   },
   "outputs": [],
   "source": [
    "def train_explore(agent, env, epoch, eps_decrease=0.9, prefix=''):\n",
    "    \n",
    "\n",
    "    # Number of won games\n",
    "    score = 0\n",
    "    loss = 0\n",
    "\n",
    "    for e in range(epoch):\n",
    "        # At each epoch, we restart to a fresh game and get the initial state\n",
    "        state = env.reset()\n",
    "        # This assumes that the games will terminate\n",
    "        game_over = False\n",
    "\n",
    "        win = 0\n",
    "        lose = 0\n",
    "\n",
    "        #decrease value of epsilon\n",
    "        agent.set_epsilon(agent.epsilon*eps_decrease)\n",
    "        print(\"Value of epsilon : \", agent.epsilon)\n",
    "\n",
    "        while not game_over:\n",
    "            # The agent performs an action\n",
    "            action = agent.act(state)\n",
    "\n",
    "            # Apply an action to the environment, get the next state, the reward\n",
    "            # and if the games end\n",
    "            prev_state = state\n",
    "            state, reward, game_over = env.act(action, train=True)\n",
    "\n",
    "            # Update the counters\n",
    "            if reward > 0:\n",
    "                win = win + reward\n",
    "            if reward < 0:\n",
    "                lose = lose -reward\n",
    "\n",
    "            # Apply the reinforcement strategy\n",
    "            loss = agent.reinforce(prev_state, state,  action, reward, game_over)\n",
    "\n",
    "            \n",
    "            \n",
    "\n",
    "        # Save as a mp4\n",
    "        if e % 10 == 0:\n",
    "            env.draw(prefix+str(e))\n",
    "\n",
    "        # Update stats\n",
    "        score += win-lose\n",
    "\n",
    "        print(\"Epoch {:03d}/{:03d} | Loss {:.4f} | Win/lose count {}/{} ({})\"\n",
    "              .format(e+1, epoch, loss, win, lose, win-lose))\n",
    "        agent.save(name_weights=prefix+'model.h5',name_model=prefix+'model.json')\n",
    "        \n",
    "class EnvironmentExploring(object):\n",
    "    def __init__(self, grid_size=10, max_time=500, temperature=0.1, malus_value=0.2):\n",
    "\n",
    "        grid_size = grid_size+4\n",
    "        self.grid_size = grid_size\n",
    "        self.max_time = max_time\n",
    "        self.temperature = temperature\n",
    "        self.malus_value = malus_value\n",
    "\n",
    "        #board on which one plays\n",
    "        self.malus_position = np.zeros((self.grid_size, self.grid_size))\n",
    "        self.board = np.zeros((grid_size,grid_size))\n",
    "        self.position = np.zeros((grid_size,grid_size))\n",
    "\n",
    "\n",
    "        # coordinate of the cat\n",
    "        self.x = 0\n",
    "        self.y = 1\n",
    "\n",
    "        # self time\n",
    "        self.t = 0\n",
    "\n",
    "        self.scale=16\n",
    "\n",
    "        self.to_draw = np.zeros((max_time+2, grid_size*self.scale, grid_size*self.scale, 3))\n",
    "\n",
    "\n",
    "    def draw(self,e):\n",
    "        skvideo.io.vwrite(str(e) + '.mp4', self.to_draw)\n",
    "\n",
    "    def get_frame(self,t):\n",
    "        b = np.zeros((self.grid_size,self.grid_size,3))+128\n",
    "        b[self.board>0,0] = 256\n",
    "        b[self.board < 0, 2] = 256\n",
    "        b[self.x,self.y,:]=256\n",
    "        b[-2:,:,:]=0\n",
    "        b[:,-2:,:]=0\n",
    "        b[:2,:,:]=0\n",
    "        b[:,:2,:]=0\n",
    "        \n",
    "        b =  cv2.resize(b, None, fx=self.scale, fy=self.scale, interpolation=cv2.INTER_NEAREST)\n",
    "\n",
    "        self.to_draw[t,:,:,:]=b\n",
    "\n",
    "\n",
    "    def act(self, action, train=False):\n",
    "        \"\"\"This function returns the new state, reward and decides if the\n",
    "        game ends.\"\"\"\n",
    "\n",
    "        self.get_frame(int(self.t))\n",
    "\n",
    "        self.position = np.zeros((self.grid_size, self.grid_size))\n",
    "\n",
    "        self.position[0:2,:]= -1\n",
    "        self.position[:,0:2] = -1\n",
    "        self.position[-2:, :] = -1\n",
    "        self.position[:, -2:] = -1\n",
    "\n",
    "        self.position[self.x, self.y] = 1\n",
    "        if action == 0:                    #go up\n",
    "            if self.x == self.grid_size-3:\n",
    "                self.x = self.x-1\n",
    "            else:\n",
    "                self.x = self.x + 1\n",
    "        elif action == 1:                    #go down\n",
    "            if self.x == 2:\n",
    "                self.x = self.x+1\n",
    "            else:\n",
    "                self.x = self.x-1\n",
    "        elif action == 2:                    #go right\n",
    "            if self.y == self.grid_size - 3:\n",
    "                self.y = self.y - 1\n",
    "            else:\n",
    "                self.y = self.y + 1\n",
    "        elif action == 3:                    #go left\n",
    "            if self.y == 2:\n",
    "                self.y = self.y + 1\n",
    "            else:\n",
    "                self.y = self.y - 1\n",
    "        else:\n",
    "            RuntimeError('Error: action not recognized')\n",
    "\n",
    "        self.t = self.t + 1\n",
    "\n",
    "\n",
    "\n",
    "        # You will have to change n_state to 3 because you will use one more layer!\n",
    "        reward = 0\n",
    "        if train:\n",
    "            reward = -self.malus_position[self.x, self.y]\n",
    "        self.malus_position[self.x, self.y] = self.malus_value\n",
    "\n",
    "        reward = reward + self.board[self.x, self.y]\n",
    "        self.board[self.x, self.y] = 0\n",
    "\n",
    "        \n",
    "        game_over = self.t > self.max_time\n",
    "        # 3 \"feature\" states instead of 2\n",
    "        state = np.concatenate((self.malus_position.reshape(self.grid_size, self.grid_size,1),\n",
    "                                        self.board.reshape(self.grid_size, self.grid_size,1),\n",
    "                                self.position.reshape(self.grid_size, self.grid_size,1)),axis=2)\n",
    "        # the shape of a state is (5,5,3) now\n",
    "        state = state[self.x-2:self.x+3,self.y-2:self.y+3,:]\n",
    "\n",
    "        return state, reward, game_over\n",
    "\n",
    "    def reset(self):\n",
    "        \"\"\"This function resets the game and returns the initial state\"\"\"\n",
    "\n",
    "        self.x = np.random.randint(3, self.grid_size-3, size=1)[0]\n",
    "        self.y = np.random.randint(3, self.grid_size-3, size=1)[0]\n",
    "\n",
    "\n",
    "        bonus = 0.5*np.random.binomial(1,self.temperature,size=self.grid_size**2)\n",
    "        bonus = bonus.reshape(self.grid_size,self.grid_size)\n",
    "\n",
    "        malus = -1.0*np.random.binomial(1,self.temperature,size=self.grid_size**2)\n",
    "        malus = malus.reshape(self.grid_size, self.grid_size)\n",
    "\n",
    "        self.to_draw = np.zeros((self.max_time+2, self.grid_size*self.scale, self.grid_size*self.scale, 3))\n",
    "\n",
    "\n",
    "        malus[bonus>0]=0\n",
    "\n",
    "        self.board = bonus + malus\n",
    "\n",
    "        self.position = np.zeros((self.grid_size, self.grid_size))\n",
    "        self.position[0:2,:]= -1\n",
    "        self.position[:,0:2] = -1\n",
    "        self.position[-2:, :] = -1\n",
    "        self.position[:, -2:] = -1\n",
    "        self.board[self.x,self.y] = 0\n",
    "        self.t = 0\n",
    "\n",
    "        self.malus_position = np.zeros((self.grid_size, self.grid_size))\n",
    "\n",
    "        state = np.concatenate((self.malus_position.reshape(self.grid_size, self.grid_size,1),\n",
    "                               self.board.reshape(self.grid_size, self.grid_size,1),\n",
    "                        self.position.reshape(self.grid_size, self.grid_size,1)),\n",
    "                        axis=2)\n",
    "\n",
    "        state = state[self.x - 2:self.x + 3, self.y - 2:self.y + 3, :]\n",
    "        return state\n",
    "    "
   ]
  },
  {
   "cell_type": "code",
   "execution_count": 115,
   "metadata": {
    "colab": {
     "base_uri": "https://localhost:8080/",
     "height": 1000
    },
    "colab_type": "code",
    "executionInfo": {
     "elapsed": 1082499,
     "status": "ok",
     "timestamp": 1583087049740,
     "user": {
      "displayName": "Adrian Jarret",
      "photoUrl": "",
      "userId": "03614014099574646852"
     },
     "user_tz": -60
    },
    "id": "NDDXUbY6jQIV",
    "outputId": "acbf30df-0295-4ff1-8c0c-cb0c77407b94"
   },
   "outputs": [
    {
     "name": "stdout",
     "output_type": "stream",
     "text": [
      "Model: \"sequential_43\"\n",
      "_________________________________________________________________\n",
      "Layer (type)                 Output Shape              Param #   \n",
      "=================================================================\n",
      "conv2d_39 (Conv2D)           (None, 4, 4, 64)          832       \n",
      "_________________________________________________________________\n",
      "max_pooling2d_17 (MaxPooling (None, 2, 2, 64)          0         \n",
      "_________________________________________________________________\n",
      "conv2d_40 (Conv2D)           (None, 1, 1, 32)          8224      \n",
      "_________________________________________________________________\n",
      "flatten_42 (Flatten)         (None, 32)                0         \n",
      "_________________________________________________________________\n",
      "dropout_25 (Dropout)         (None, 32)                0         \n",
      "_________________________________________________________________\n",
      "dense_66 (Dense)             (None, 4)                 132       \n",
      "=================================================================\n",
      "Total params: 9,188\n",
      "Trainable params: 9,188\n",
      "Non-trainable params: 0\n",
      "_________________________________________________________________\n",
      "Value of epsilon :  0.18000000000000002\n",
      "Epoch 001/051 | Loss 0.0085 | Win/lose count 5.0/23.000000000000068 (-18.000000000000068)\n",
      "Value of epsilon :  0.16200000000000003\n",
      "Epoch 002/051 | Loss 0.0078 | Win/lose count 9.0/25.500000000000036 (-16.500000000000036)\n",
      "Value of epsilon :  0.14580000000000004\n",
      "Epoch 003/051 | Loss 0.0075 | Win/lose count 13.0/24.900000000000038 (-11.900000000000038)\n",
      "Value of epsilon :  0.13122000000000003\n",
      "Epoch 004/051 | Loss 0.0225 | Win/lose count 17.5/21.300000000000022 (-3.800000000000022)\n",
      "Value of epsilon :  0.11809800000000004\n",
      "Epoch 005/051 | Loss 0.0177 | Win/lose count 17.0/19.100000000000012 (-2.100000000000012)\n",
      "Value of epsilon :  0.10628820000000004\n",
      "Epoch 006/051 | Loss 0.0216 | Win/lose count 17.0/23.100000000000023 (-6.100000000000023)\n",
      "Value of epsilon :  0.09565938000000004\n",
      "Epoch 007/051 | Loss 0.0136 | Win/lose count 14.5/25.200000000000085 (-10.700000000000085)\n",
      "Value of epsilon :  0.08609344200000005\n",
      "Epoch 008/051 | Loss 0.0177 | Win/lose count 23.5/20.80000000000003 (2.699999999999971)\n",
      "Value of epsilon :  0.07748409780000004\n",
      "Epoch 009/051 | Loss 0.0198 | Win/lose count 24.5/15.199999999999974 (9.300000000000026)\n",
      "Value of epsilon :  0.06973568802000003\n",
      "Epoch 010/051 | Loss 0.0320 | Win/lose count 18.5/15.99999999999997 (2.50000000000003)\n",
      "Value of epsilon :  0.06276211921800003\n",
      "Epoch 011/051 | Loss 0.0521 | Win/lose count 20.0/16.29999999999997 (3.7000000000000313)\n",
      "Value of epsilon :  0.056485907296200025\n",
      "Epoch 012/051 | Loss 0.0139 | Win/lose count 21.0/16.699999999999978 (4.300000000000022)\n",
      "Value of epsilon :  0.050837316566580026\n",
      "Epoch 013/051 | Loss 0.0300 | Win/lose count 17.5/15.599999999999964 (1.9000000000000359)\n",
      "Value of epsilon :  0.04575358490992203\n",
      "Epoch 014/051 | Loss 0.0541 | Win/lose count 22.0/17.499999999999982 (4.500000000000018)\n",
      "Value of epsilon :  0.04117822641892983\n",
      "Epoch 015/051 | Loss 0.0305 | Win/lose count 17.5/21.200000000000003 (-3.700000000000003)\n",
      "Value of epsilon :  0.03706040377703684\n",
      "Epoch 016/051 | Loss 0.0277 | Win/lose count 23.0/14.099999999999973 (8.900000000000027)\n",
      "Value of epsilon :  0.03335436339933316\n",
      "Epoch 017/051 | Loss 0.0380 | Win/lose count 18.0/19.000000000000007 (-1.000000000000007)\n",
      "Value of epsilon :  0.030018927059399847\n",
      "Epoch 018/051 | Loss 0.0292 | Win/lose count 18.0/23.600000000000044 (-5.600000000000044)\n",
      "Value of epsilon :  0.027017034353459864\n",
      "Epoch 019/051 | Loss 0.0214 | Win/lose count 21.5/11.699999999999978 (9.800000000000022)\n",
      "Value of epsilon :  0.02431533091811388\n",
      "Epoch 020/051 | Loss 0.0225 | Win/lose count 18.5/24.500000000000092 (-6.000000000000092)\n",
      "Value of epsilon :  0.02188379782630249\n",
      "Epoch 021/051 | Loss 0.0335 | Win/lose count 17.5/19.9 (-2.3999999999999986)\n",
      "Value of epsilon :  0.019695418043672242\n",
      "Epoch 022/051 | Loss 0.0335 | Win/lose count 23.0/18.199999999999996 (4.800000000000004)\n",
      "Value of epsilon :  0.01772587623930502\n",
      "Epoch 023/051 | Loss 0.0135 | Win/lose count 20.0/17.299999999999983 (2.700000000000017)\n",
      "Value of epsilon :  0.015953288615374518\n",
      "Epoch 024/051 | Loss 0.0336 | Win/lose count 26.0/19.800000000000022 (6.199999999999978)\n",
      "Value of epsilon :  0.014357959753837067\n",
      "Epoch 025/051 | Loss 0.0494 | Win/lose count 19.5/14.999999999999977 (4.500000000000023)\n",
      "Value of epsilon :  0.012922163778453361\n",
      "Epoch 026/051 | Loss 0.0210 | Win/lose count 22.5/15.499999999999972 (7.000000000000028)\n",
      "Value of epsilon :  0.011629947400608026\n",
      "Epoch 027/051 | Loss 0.0453 | Win/lose count 22.0/18.000000000000004 (3.9999999999999964)\n",
      "Value of epsilon :  0.010466952660547223\n",
      "Epoch 028/051 | Loss 0.0263 | Win/lose count 18.0/15.299999999999974 (2.700000000000026)\n",
      "Value of epsilon :  0.0094202573944925\n",
      "Epoch 029/051 | Loss 0.0466 | Win/lose count 18.0/19.80000000000002 (-1.8000000000000185)\n",
      "Value of epsilon :  0.008478231655043252\n",
      "Epoch 030/051 | Loss 0.0345 | Win/lose count 25.5/14.39999999999997 (11.10000000000003)\n",
      "Value of epsilon :  0.007630408489538927\n",
      "Epoch 031/051 | Loss 0.0394 | Win/lose count 19.0/19.1 (-0.10000000000000142)\n",
      "Value of epsilon :  0.006867367640585034\n",
      "Epoch 032/051 | Loss 0.0385 | Win/lose count 19.5/19.900000000000027 (-0.400000000000027)\n",
      "Value of epsilon :  0.0061806308765265305\n",
      "Epoch 033/051 | Loss 0.0195 | Win/lose count 23.0/14.199999999999973 (8.800000000000027)\n",
      "Value of epsilon :  0.005562567788873878\n",
      "Epoch 034/051 | Loss 0.0273 | Win/lose count 25.0/13.999999999999973 (11.000000000000027)\n",
      "Value of epsilon :  0.00500631100998649\n",
      "Epoch 035/051 | Loss 0.0239 | Win/lose count 13.0/21.300000000000015 (-8.300000000000015)\n",
      "Value of epsilon :  0.004505679908987841\n",
      "Epoch 036/051 | Loss 0.0370 | Win/lose count 21.5/16.099999999999973 (5.400000000000027)\n",
      "Value of epsilon :  0.004055111918089057\n",
      "Epoch 037/051 | Loss 0.0241 | Win/lose count 24.5/14.399999999999972 (10.100000000000028)\n",
      "Value of epsilon :  0.0036496007262801517\n",
      "Epoch 038/051 | Loss 0.0291 | Win/lose count 16.5/19.700000000000014 (-3.2000000000000135)\n",
      "Value of epsilon :  0.0032846406536521365\n",
      "Epoch 039/051 | Loss 0.0332 | Win/lose count 17.5/18.499999999999996 (-0.9999999999999964)\n",
      "Value of epsilon :  0.0029561765882869227\n",
      "Epoch 040/051 | Loss 0.0521 | Win/lose count 17.0/18.400000000000002 (-1.4000000000000021)\n",
      "Value of epsilon :  0.0026605589294582304\n",
      "Epoch 041/051 | Loss 0.0335 | Win/lose count 20.0/18.000000000000004 (1.9999999999999964)\n",
      "Value of epsilon :  0.0023945030365124073\n",
      "Epoch 042/051 | Loss 0.0353 | Win/lose count 22.5/15.49999999999997 (7.00000000000003)\n",
      "Value of epsilon :  0.0021550527328611665\n",
      "Epoch 043/051 | Loss 0.0394 | Win/lose count 18.5/21.600000000000037 (-3.100000000000037)\n",
      "Value of epsilon :  0.00193954745957505\n",
      "Epoch 044/051 | Loss 0.0361 | Win/lose count 22.5/19.200000000000006 (3.2999999999999936)\n",
      "Value of epsilon :  0.0017455927136175449\n",
      "Epoch 045/051 | Loss 0.0345 | Win/lose count 23.5/17.099999999999984 (6.400000000000016)\n",
      "Value of epsilon :  0.0015710334422557905\n",
      "Epoch 046/051 | Loss 0.0420 | Win/lose count 16.5/23.20000000000007 (-6.70000000000007)\n",
      "Value of epsilon :  0.0014139300980302114\n",
      "Epoch 047/051 | Loss 0.0368 | Win/lose count 28.5/14.499999999999977 (14.000000000000023)\n",
      "Value of epsilon :  0.0012725370882271903\n",
      "Epoch 048/051 | Loss 0.0358 | Win/lose count 17.0/17.199999999999985 (-0.19999999999998508)\n",
      "Value of epsilon :  0.0011452833794044714\n",
      "Epoch 049/051 | Loss 0.0252 | Win/lose count 24.0/23.600000000000037 (0.39999999999996305)\n",
      "Value of epsilon :  0.0010307550414640242\n",
      "Epoch 050/051 | Loss 0.0392 | Win/lose count 21.0/18.400000000000002 (2.599999999999998)\n",
      "Value of epsilon :  0.0009276795373176219\n",
      "Epoch 051/051 | Loss 0.0272 | Win/lose count 12.5/19.29999999999996 (-6.799999999999962)\n"
     ]
    },
    {
     "data": {
      "text/html": [
       "<video alt=\"test\" controls>\n",
       "                <source src=\"data:video/mp4;base64,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\" type=\"video/mp4\" />\n",
       "             </video>"
      ],
      "text/plain": [
       "<IPython.core.display.HTML object>"
      ]
     },
     "execution_count": 115,
     "metadata": {
      "tags": []
     },
     "output_type": "execute_result"
    }
   ],
   "source": [
    "epochs_train =51\n",
    "\n",
    "# lower learning rate and bigger batch size => more training\n",
    "\n",
    "# Training\n",
    "env = EnvironmentExploring(grid_size=size, max_time=T, temperature=0.3, malus_value=.1)\n",
    "\n",
    "# We use a particularly high epsilon as it is decreasing with time,\n",
    "# and we want large exploration at start.\n",
    "agent = DQN_CNN(size, lr=.001, epsilon = 0.2, memory_size=2000, batch_size = 32,n_state=3)\n",
    "train_explore(agent, env, epochs_train, prefix='cnn_train_explore')\n",
    "HTML(display_videos('cnn_train_explore50.mp4'))"
   ]
  },
  {
   "cell_type": "markdown",
   "metadata": {
    "colab_type": "text",
    "id": "j99ZZ7p_WC2h"
   },
   "source": [
    "The scores we obtain from the training step appear quite low as they include the malus from going through already explored places. Let us see how everything sums up durnig test phase :"
   ]
  },
  {
   "cell_type": "code",
   "execution_count": 116,
   "metadata": {
    "colab": {
     "base_uri": "https://localhost:8080/",
     "height": 871
    },
    "colab_type": "code",
    "executionInfo": {
     "elapsed": 242032,
     "status": "ok",
     "timestamp": 1583087339968,
     "user": {
      "displayName": "Adrian Jarret",
      "photoUrl": "",
      "userId": "03614014099574646852"
     },
     "user_tz": -60
    },
    "id": "RTYXvPq_jQIZ",
    "outputId": "635f3722-69b5-4bb0-c241-90727231aa5c"
   },
   "outputs": [
    {
     "name": "stdout",
     "output_type": "stream",
     "text": [
      "Epoch 001/011\n",
      "Win/lose count 17.0/6.0. Average score (11.0)\n",
      "\n",
      "Epoch 002/011\n",
      "Win/lose count 22.0/7.0. Average score (13.0)\n",
      "\n",
      "Epoch 003/011\n",
      "Win/lose count 22.0/3.0. Average score (15.0)\n",
      "\n",
      "Epoch 004/011\n",
      "Win/lose count 20.5/8.0. Average score (14.375)\n",
      "\n",
      "Epoch 005/011\n",
      "Win/lose count 24.5/6.0. Average score (15.2)\n",
      "\n",
      "Epoch 006/011\n",
      "Win/lose count 20.5/4.0. Average score (15.416666666666666)\n",
      "\n",
      "Epoch 007/011\n",
      "Win/lose count 27.5/6.0. Average score (16.285714285714285)\n",
      "\n",
      "Epoch 008/011\n",
      "Win/lose count 14.0/4.0. Average score (15.5)\n",
      "\n",
      "Epoch 009/011\n",
      "Win/lose count 22.0/5.0. Average score (15.666666666666666)\n",
      "\n",
      "Epoch 010/011\n",
      "Win/lose count 24.0/5.0. Average score (16.0)\n",
      "\n",
      "Epoch 011/011\n",
      "Win/lose count 19.5/4.0. Average score (15.954545454545455)\n",
      "\n",
      "Final score: 15.954545454545455\n"
     ]
    },
    {
     "data": {
      "text/html": [
       "<video alt=\"test\" controls>\n",
       "                <source src=\"data:video/mp4;base64,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\" type=\"video/mp4\" />\n",
       "             </video>"
      ],
      "text/plain": [
       "<IPython.core.display.HTML object>"
      ]
     },
     "execution_count": 116,
     "metadata": {
      "tags": []
     },
     "output_type": "execute_result"
    }
   ],
   "source": [
    "# Evaluation\n",
    "test(agent,env,epochs_test,prefix='cnn_test_explore')\n",
    "HTML(display_videos('cnn_test_explore10.mp4'))"
   ]
  },
  {
   "cell_type": "markdown",
   "metadata": {
    "colab_type": "text",
    "id": "zifFSJwYjQIf"
   },
   "source": [
    "***\n",
    "***\n",
    "__BONUS question__ Use the expert DQN from the previous question to generate some winning games. Train a model that mimicks its behavior. Compare the performances."
   ]
  },
  {
   "cell_type": "markdown",
   "metadata": {
    "colab_type": "text",
    "id": "mi9YMmUEjQIh"
   },
   "source": []
  },
  {
   "cell_type": "markdown",
   "metadata": {
    "colab_type": "text",
    "id": "eFCW4w2cjQIi"
   },
   "source": [
    "***"
   ]
  }
 ],
 "metadata": {
  "accelerator": "GPU",
  "colab": {
   "collapsed_sections": [],
   "name": "DQN_project_MVA.ipynb",
   "provenance": []
  },
  "kernelspec": {
   "display_name": "Python 3",
   "language": "python",
   "name": "python3"
  },
  "language_info": {
   "codemirror_mode": {
    "name": "ipython",
    "version": 3
   },
   "file_extension": ".py",
   "mimetype": "text/x-python",
   "name": "python",
   "nbconvert_exporter": "python",
   "pygments_lexer": "ipython3",
   "version": "3.7.4"
  },
  "latex_envs": {
   "LaTeX_envs_menu_present": true,
   "autoclose": false,
   "autocomplete": true,
   "bibliofile": "biblio.bib",
   "cite_by": "apalike",
   "current_citInitial": 1,
   "eqLabelWithNumbers": true,
   "eqNumInitial": 1,
   "hotkeys": {
    "equation": "Ctrl-E",
    "itemize": "Ctrl-I"
   },
   "labels_anchors": false,
   "latex_user_defs": false,
   "report_style_numbering": false,
   "user_envs_cfg": false
  }
 },
 "nbformat": 4,
 "nbformat_minor": 1
}
